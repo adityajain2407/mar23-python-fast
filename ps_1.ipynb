{
  "nbformat": 4,
  "nbformat_minor": 0,
  "metadata": {
    "colab": {
      "provenance": [],
      "authorship_tag": "ABX9TyOL8Y4YgbZe8Ev+uLEp0e7C",
      "include_colab_link": true
    },
    "kernelspec": {
      "name": "python3",
      "display_name": "Python 3"
    },
    "language_info": {
      "name": "python"
    }
  },
  "cells": [
    {
      "cell_type": "markdown",
      "metadata": {
        "id": "view-in-github",
        "colab_type": "text"
      },
      "source": [
        "<a href=\"https://colab.research.google.com/github/adityajain2407/mar23-python-fast/blob/main/ps_1.ipynb\" target=\"_parent\"><img src=\"https://colab.research.google.com/assets/colab-badge.svg\" alt=\"Open In Colab\"/></a>"
      ]
    },
    {
      "cell_type": "code",
      "execution_count": null,
      "metadata": {
        "id": "5emdu5YQLtLv"
      },
      "outputs": [],
      "source": [
        "#Q --> Given an integer n, write a code to calculate the number of digits in n\n",
        "n = 147\n",
        "op: 3\n",
        "\n",
        "n= 100\n",
        "op: 3\n",
        "\n",
        "n = 48291\n",
        "op: 5"
      ]
    },
    {
      "cell_type": "code",
      "source": [
        "count = 0\n",
        "n = 147\n",
        "while n > 0:\n",
        "  n = n//10\n",
        "  count += 1\n",
        "\n",
        "print(count)"
      ],
      "metadata": {
        "colab": {
          "base_uri": "https://localhost:8080/"
        },
        "id": "q2Xceju8h7t3",
        "outputId": "7ba7d3f6-d389-4d49-de53-2c00b52e0d38"
      },
      "execution_count": 1,
      "outputs": [
        {
          "output_type": "stream",
          "name": "stdout",
          "text": [
            "3\n"
          ]
        }
      ]
    },
    {
      "cell_type": "code",
      "source": [
        "count = 0\n",
        "n = 48219\n",
        "\n",
        "while n > 0:\n",
        "  n = n//10\n",
        "  count += 1\n",
        "\n",
        "print(count)"
      ],
      "metadata": {
        "colab": {
          "base_uri": "https://localhost:8080/"
        },
        "id": "OXQrxwhyiCnh",
        "outputId": "0a87a436-41c6-4d3c-b1ac-189b9b2dd587"
      },
      "execution_count": 2,
      "outputs": [
        {
          "output_type": "stream",
          "name": "stdout",
          "text": [
            "5\n"
          ]
        }
      ]
    },
    {
      "cell_type": "code",
      "source": [],
      "metadata": {
        "id": "RMT5q8tNiE0q"
      },
      "execution_count": null,
      "outputs": []
    }
  ]
}
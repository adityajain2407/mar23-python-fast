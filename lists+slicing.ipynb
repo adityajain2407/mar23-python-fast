{
  "nbformat": 4,
  "nbformat_minor": 0,
  "metadata": {
    "colab": {
      "provenance": [],
      "authorship_tag": "ABX9TyMp5abfMScXAvuLtbinIoPI",
      "include_colab_link": true
    },
    "kernelspec": {
      "name": "python3",
      "display_name": "Python 3"
    },
    "language_info": {
      "name": "python"
    }
  },
  "cells": [
    {
      "cell_type": "markdown",
      "metadata": {
        "id": "view-in-github",
        "colab_type": "text"
      },
      "source": [
        "<a href=\"https://colab.research.google.com/github/adityajain2407/mar23-python-fast/blob/main/lists%2Bslicing.ipynb\" target=\"_parent\"><img src=\"https://colab.research.google.com/assets/colab-badge.svg\" alt=\"Open In Colab\"/></a>"
      ]
    },
    {
      "cell_type": "code",
      "execution_count": 1,
      "metadata": {
        "id": "_oBnsTOHpjUx"
      },
      "outputs": [],
      "source": [
        "runs = [50, 32, 20, 90]"
      ]
    },
    {
      "cell_type": "code",
      "source": [
        "type(runs)"
      ],
      "metadata": {
        "colab": {
          "base_uri": "https://localhost:8080/"
        },
        "id": "cET9vPwJr0ys",
        "outputId": "d27b5b5a-fbe0-4572-a388-871aaea76dc4"
      },
      "execution_count": 2,
      "outputs": [
        {
          "output_type": "execute_result",
          "data": {
            "text/plain": [
              "list"
            ]
          },
          "metadata": {},
          "execution_count": 2
        }
      ]
    },
    {
      "cell_type": "code",
      "source": [
        "print(runs)"
      ],
      "metadata": {
        "colab": {
          "base_uri": "https://localhost:8080/"
        },
        "id": "J2O8Q9XKr5q8",
        "outputId": "1e031a7e-7cad-449c-a2e6-d51ff0800824"
      },
      "execution_count": 3,
      "outputs": [
        {
          "output_type": "stream",
          "name": "stdout",
          "text": [
            "[50, 32, 20, 90]\n"
          ]
        }
      ]
    },
    {
      "cell_type": "code",
      "source": [
        "'''\n",
        "1. Store\n",
        "2. Access\n",
        "3. Modify\n",
        "'''"
      ],
      "metadata": {
        "id": "O4ayccz4r8Qx"
      },
      "execution_count": null,
      "outputs": []
    },
    {
      "cell_type": "code",
      "source": [
        "#store elements\n",
        "runs = [50, 32, 20, 90]"
      ],
      "metadata": {
        "id": "GnvG9MdhsIcm"
      },
      "execution_count": 4,
      "outputs": []
    },
    {
      "cell_type": "code",
      "source": [
        "n = len(runs)"
      ],
      "metadata": {
        "id": "soIjVcp-sLGB"
      },
      "execution_count": 5,
      "outputs": []
    },
    {
      "cell_type": "code",
      "source": [
        "print(n)"
      ],
      "metadata": {
        "colab": {
          "base_uri": "https://localhost:8080/"
        },
        "id": "oLnMlQe4sMuA",
        "outputId": "0c5b6641-4760-4dc1-8b39-0bf2850312e8"
      },
      "execution_count": 6,
      "outputs": [
        {
          "output_type": "stream",
          "name": "stdout",
          "text": [
            "4\n"
          ]
        }
      ]
    },
    {
      "cell_type": "code",
      "source": [
        "b = [4, 4.5, \"AJ\", True, 9]"
      ],
      "metadata": {
        "id": "lcQLxPmPsOcO"
      },
      "execution_count": 7,
      "outputs": []
    },
    {
      "cell_type": "code",
      "source": [
        "type(b)"
      ],
      "metadata": {
        "colab": {
          "base_uri": "https://localhost:8080/"
        },
        "id": "I5LNOLs6sXRe",
        "outputId": "711e8b70-5dde-4d03-aada-7204bb332f94"
      },
      "execution_count": 8,
      "outputs": [
        {
          "output_type": "execute_result",
          "data": {
            "text/plain": [
              "list"
            ]
          },
          "metadata": {},
          "execution_count": 8
        }
      ]
    },
    {
      "cell_type": "code",
      "source": [
        "runs = [50, 32, 20, 90]"
      ],
      "metadata": {
        "id": "jCPLFPCFsYwS"
      },
      "execution_count": 9,
      "outputs": []
    },
    {
      "cell_type": "code",
      "source": [
        "# IMP - lists are accessible using indexes - lists are indexable.\n",
        "# Indexing starts from 0"
      ],
      "metadata": {
        "id": "ORZaKIRqsuTA"
      },
      "execution_count": null,
      "outputs": []
    },
    {
      "cell_type": "code",
      "source": [
        "a = [5, 4, 1, 2] #storing"
      ],
      "metadata": {
        "id": "JtK_qZnOtsjv"
      },
      "execution_count": 10,
      "outputs": []
    },
    {
      "cell_type": "code",
      "source": [
        "type(a)"
      ],
      "metadata": {
        "colab": {
          "base_uri": "https://localhost:8080/"
        },
        "id": "EWRddWhHtulk",
        "outputId": "66f4da6d-bece-4612-f860-ed315e336936"
      },
      "execution_count": 11,
      "outputs": [
        {
          "output_type": "execute_result",
          "data": {
            "text/plain": [
              "list"
            ]
          },
          "metadata": {},
          "execution_count": 11
        }
      ]
    },
    {
      "cell_type": "code",
      "source": [
        "print(a)"
      ],
      "metadata": {
        "colab": {
          "base_uri": "https://localhost:8080/"
        },
        "id": "KMZrKc95tv69",
        "outputId": "dd61284e-981f-49f5-d2e2-116bdf5a531a"
      },
      "execution_count": 12,
      "outputs": [
        {
          "output_type": "stream",
          "name": "stdout",
          "text": [
            "[5, 4, 1, 2]\n"
          ]
        }
      ]
    },
    {
      "cell_type": "code",
      "source": [
        "print(a[0]) #accessing"
      ],
      "metadata": {
        "colab": {
          "base_uri": "https://localhost:8080/"
        },
        "id": "OB10wDVQtxHR",
        "outputId": "5ced40e8-e048-4842-b288-df22413cef67"
      },
      "execution_count": 14,
      "outputs": [
        {
          "output_type": "stream",
          "name": "stdout",
          "text": [
            "5\n"
          ]
        }
      ]
    },
    {
      "cell_type": "code",
      "source": [
        "print(a[2])"
      ],
      "metadata": {
        "colab": {
          "base_uri": "https://localhost:8080/"
        },
        "id": "Kzzl42NSt1Ew",
        "outputId": "60c6e479-bc1d-4c93-fdb0-fcae7d829e73"
      },
      "execution_count": 15,
      "outputs": [
        {
          "output_type": "stream",
          "name": "stdout",
          "text": [
            "1\n"
          ]
        }
      ]
    },
    {
      "cell_type": "code",
      "source": [
        "print(a[4])"
      ],
      "metadata": {
        "colab": {
          "base_uri": "https://localhost:8080/",
          "height": 178
        },
        "id": "3I7Lh1qTt880",
        "outputId": "15e9fc2c-c375-475d-f8c9-b333674e6e8a"
      },
      "execution_count": 16,
      "outputs": [
        {
          "output_type": "error",
          "ename": "IndexError",
          "evalue": "ignored",
          "traceback": [
            "\u001b[0;31m---------------------------------------------------------------------------\u001b[0m",
            "\u001b[0;31mIndexError\u001b[0m                                Traceback (most recent call last)",
            "\u001b[0;32m<ipython-input-16-ba4863cd608d>\u001b[0m in \u001b[0;36m<cell line: 1>\u001b[0;34m()\u001b[0m\n\u001b[0;32m----> 1\u001b[0;31m \u001b[0mprint\u001b[0m\u001b[0;34m(\u001b[0m\u001b[0ma\u001b[0m\u001b[0;34m[\u001b[0m\u001b[0;36m4\u001b[0m\u001b[0;34m]\u001b[0m\u001b[0;34m)\u001b[0m\u001b[0;34m\u001b[0m\u001b[0;34m\u001b[0m\u001b[0m\n\u001b[0m",
            "\u001b[0;31mIndexError\u001b[0m: list index out of range"
          ]
        }
      ]
    },
    {
      "cell_type": "code",
      "source": [
        "print(a[3])"
      ],
      "metadata": {
        "colab": {
          "base_uri": "https://localhost:8080/"
        },
        "id": "qzbVY1FguClm",
        "outputId": "aae6caf0-9457-48da-a1f4-5921f28ff7ac"
      },
      "execution_count": 17,
      "outputs": [
        {
          "output_type": "stream",
          "name": "stdout",
          "text": [
            "2\n"
          ]
        }
      ]
    },
    {
      "cell_type": "code",
      "source": [
        "#modification"
      ],
      "metadata": {
        "id": "alj7W14juJOv"
      },
      "execution_count": 18,
      "outputs": []
    },
    {
      "cell_type": "code",
      "source": [
        "print(a)"
      ],
      "metadata": {
        "colab": {
          "base_uri": "https://localhost:8080/"
        },
        "id": "DIWX-HBxuN_C",
        "outputId": "fa1f6467-0bfd-4b99-daf5-f2b276470d14"
      },
      "execution_count": 19,
      "outputs": [
        {
          "output_type": "stream",
          "name": "stdout",
          "text": [
            "[5, 4, 1, 2]\n"
          ]
        }
      ]
    },
    {
      "cell_type": "code",
      "source": [
        "a"
      ],
      "metadata": {
        "colab": {
          "base_uri": "https://localhost:8080/"
        },
        "id": "3pEFhgAEuPp5",
        "outputId": "a6a8ce3b-e06a-4550-dab0-d23bf8551671"
      },
      "execution_count": 21,
      "outputs": [
        {
          "output_type": "execute_result",
          "data": {
            "text/plain": [
              "[5, 4, 1, 2]"
            ]
          },
          "metadata": {},
          "execution_count": 21
        }
      ]
    },
    {
      "cell_type": "code",
      "source": [
        "a[1] = -3"
      ],
      "metadata": {
        "id": "JLODiS59uQbo"
      },
      "execution_count": 22,
      "outputs": []
    },
    {
      "cell_type": "code",
      "source": [
        "print(a)"
      ],
      "metadata": {
        "colab": {
          "base_uri": "https://localhost:8080/"
        },
        "id": "i9dP6YzzuZo3",
        "outputId": "4f692e5c-4e36-4078-bcaf-c80de4ee4674"
      },
      "execution_count": 23,
      "outputs": [
        {
          "output_type": "stream",
          "name": "stdout",
          "text": [
            "[5, -3, 1, 2]\n"
          ]
        }
      ]
    },
    {
      "cell_type": "code",
      "source": [
        "a[3]"
      ],
      "metadata": {
        "colab": {
          "base_uri": "https://localhost:8080/"
        },
        "id": "Tv1JQHlBuan8",
        "outputId": "e74408b3-328c-48a1-87b1-eba14b4cc326"
      },
      "execution_count": 24,
      "outputs": [
        {
          "output_type": "execute_result",
          "data": {
            "text/plain": [
              "2"
            ]
          },
          "metadata": {},
          "execution_count": 24
        }
      ]
    },
    {
      "cell_type": "code",
      "source": [
        "a[3] = 9"
      ],
      "metadata": {
        "id": "qpKKiS7xulVg"
      },
      "execution_count": 25,
      "outputs": []
    },
    {
      "cell_type": "code",
      "source": [
        "a"
      ],
      "metadata": {
        "colab": {
          "base_uri": "https://localhost:8080/"
        },
        "id": "EajKhtSAung6",
        "outputId": "cf56d03b-9881-4b71-8f99-8ee5c82ec4b6"
      },
      "execution_count": 26,
      "outputs": [
        {
          "output_type": "execute_result",
          "data": {
            "text/plain": [
              "[5, -3, 1, 9]"
            ]
          },
          "metadata": {},
          "execution_count": 26
        }
      ]
    },
    {
      "cell_type": "code",
      "source": [
        "#finding the number of elements present in a list - length of the list --> len(a)"
      ],
      "metadata": {
        "id": "u8KUYl1vun9M"
      },
      "execution_count": null,
      "outputs": []
    },
    {
      "cell_type": "code",
      "source": [
        "n = len(a)"
      ],
      "metadata": {
        "id": "zyiei5wWu24H"
      },
      "execution_count": 27,
      "outputs": []
    },
    {
      "cell_type": "code",
      "source": [
        "print(n)"
      ],
      "metadata": {
        "colab": {
          "base_uri": "https://localhost:8080/"
        },
        "id": "A0gKcGaiu5in",
        "outputId": "be1f6c3e-975c-412f-8ff3-b6940d678cb2"
      },
      "execution_count": 28,
      "outputs": [
        {
          "output_type": "stream",
          "name": "stdout",
          "text": [
            "4\n"
          ]
        }
      ]
    },
    {
      "cell_type": "code",
      "source": [
        "runs = [50, 20, 55, 101, 90]"
      ],
      "metadata": {
        "id": "zhuchqBIu6DZ"
      },
      "execution_count": 30,
      "outputs": []
    },
    {
      "cell_type": "code",
      "source": [
        "#print the runs scored by VK in the last match"
      ],
      "metadata": {
        "id": "2VdfD1x7vBA0"
      },
      "execution_count": 31,
      "outputs": []
    },
    {
      "cell_type": "code",
      "source": [
        "runs[4]"
      ],
      "metadata": {
        "colab": {
          "base_uri": "https://localhost:8080/"
        },
        "id": "LYab0LM3vMW0",
        "outputId": "70eedf02-bfba-4c49-ee0b-da5aaa55fcf2"
      },
      "execution_count": 32,
      "outputs": [
        {
          "output_type": "execute_result",
          "data": {
            "text/plain": [
              "90"
            ]
          },
          "metadata": {},
          "execution_count": 32
        }
      ]
    },
    {
      "cell_type": "code",
      "source": [
        "n = len(runs)"
      ],
      "metadata": {
        "id": "kMDUbFtzvPh9"
      },
      "execution_count": 34,
      "outputs": []
    },
    {
      "cell_type": "code",
      "source": [
        "print(n)"
      ],
      "metadata": {
        "colab": {
          "base_uri": "https://localhost:8080/"
        },
        "id": "6af9KTZevW-_",
        "outputId": "c0a6510f-3991-44c0-d198-1dad9e3cd0cb"
      },
      "execution_count": 35,
      "outputs": [
        {
          "output_type": "stream",
          "name": "stdout",
          "text": [
            "5\n"
          ]
        }
      ]
    },
    {
      "cell_type": "code",
      "source": [
        "runs[n-1]"
      ],
      "metadata": {
        "colab": {
          "base_uri": "https://localhost:8080/"
        },
        "id": "jRMKey3uvau6",
        "outputId": "d6badac2-95b1-4de8-fbc0-a4c1ebf325fa"
      },
      "execution_count": 36,
      "outputs": [
        {
          "output_type": "execute_result",
          "data": {
            "text/plain": [
              "90"
            ]
          },
          "metadata": {},
          "execution_count": 36
        }
      ]
    },
    {
      "cell_type": "code",
      "source": [
        "runs[n-2]"
      ],
      "metadata": {
        "colab": {
          "base_uri": "https://localhost:8080/"
        },
        "id": "JfQY_VTBvfsU",
        "outputId": "70c1f9af-e107-434d-e091-c7f350c02927"
      },
      "execution_count": 37,
      "outputs": [
        {
          "output_type": "execute_result",
          "data": {
            "text/plain": [
              "101"
            ]
          },
          "metadata": {},
          "execution_count": 37
        }
      ]
    },
    {
      "cell_type": "code",
      "source": [
        "runs[len(runs)-2]"
      ],
      "metadata": {
        "colab": {
          "base_uri": "https://localhost:8080/"
        },
        "id": "cS1ERghVvmd-",
        "outputId": "7cf8ebb4-c7c2-4c51-a15e-fbf5dfc7fcd9"
      },
      "execution_count": 38,
      "outputs": [
        {
          "output_type": "execute_result",
          "data": {
            "text/plain": [
              "101"
            ]
          },
          "metadata": {},
          "execution_count": 38
        }
      ]
    },
    {
      "cell_type": "code",
      "source": [
        "runs[-1]"
      ],
      "metadata": {
        "colab": {
          "base_uri": "https://localhost:8080/"
        },
        "id": "TOsIiBwqvt4G",
        "outputId": "fb0cd601-6270-4adc-ddb6-5fcd490820a2"
      },
      "execution_count": 39,
      "outputs": [
        {
          "output_type": "execute_result",
          "data": {
            "text/plain": [
              "90"
            ]
          },
          "metadata": {},
          "execution_count": 39
        }
      ]
    },
    {
      "cell_type": "code",
      "source": [
        "runs"
      ],
      "metadata": {
        "colab": {
          "base_uri": "https://localhost:8080/"
        },
        "id": "lQQtbJ0JwiIv",
        "outputId": "80469428-e340-48cf-bc3f-a3adc4ffbd5f"
      },
      "execution_count": 41,
      "outputs": [
        {
          "output_type": "execute_result",
          "data": {
            "text/plain": [
              "[50, 20, 55, 101, 90]"
            ]
          },
          "metadata": {},
          "execution_count": 41
        }
      ]
    },
    {
      "cell_type": "code",
      "source": [
        "runs[-2]"
      ],
      "metadata": {
        "colab": {
          "base_uri": "https://localhost:8080/"
        },
        "id": "AbssMTxLwjiE",
        "outputId": "f63e3932-c847-45f5-b756-70714663e38e"
      },
      "execution_count": 42,
      "outputs": [
        {
          "output_type": "execute_result",
          "data": {
            "text/plain": [
              "101"
            ]
          },
          "metadata": {},
          "execution_count": 42
        }
      ]
    },
    {
      "cell_type": "code",
      "source": [
        "runs[-3]"
      ],
      "metadata": {
        "colab": {
          "base_uri": "https://localhost:8080/"
        },
        "id": "zDkni-v6wn58",
        "outputId": "dba874f2-0ddb-4032-f9bd-59522eb3c780"
      },
      "execution_count": 43,
      "outputs": [
        {
          "output_type": "execute_result",
          "data": {
            "text/plain": [
              "55"
            ]
          },
          "metadata": {},
          "execution_count": 43
        }
      ]
    },
    {
      "cell_type": "code",
      "source": [
        "#methods to add to element to a list"
      ],
      "metadata": {
        "id": "13xJ1JL-wptL"
      },
      "execution_count": 44,
      "outputs": []
    },
    {
      "cell_type": "code",
      "source": [
        "runs"
      ],
      "metadata": {
        "colab": {
          "base_uri": "https://localhost:8080/"
        },
        "id": "y6o5CY0eww1z",
        "outputId": "f6dab0c6-4672-463e-9926-a88268659194"
      },
      "execution_count": 45,
      "outputs": [
        {
          "output_type": "execute_result",
          "data": {
            "text/plain": [
              "[50, 20, 55, 101, 90]"
            ]
          },
          "metadata": {},
          "execution_count": 45
        }
      ]
    },
    {
      "cell_type": "code",
      "source": [
        "#append(): to add an element at the end of the list: list_name.append(value_to_be_appended)"
      ],
      "metadata": {
        "id": "O5AadCwMxH-H"
      },
      "execution_count": 46,
      "outputs": []
    },
    {
      "cell_type": "code",
      "source": [
        "runs.append(25)"
      ],
      "metadata": {
        "id": "AlynWw_RxMuc"
      },
      "execution_count": 47,
      "outputs": []
    },
    {
      "cell_type": "code",
      "source": [
        "runs"
      ],
      "metadata": {
        "colab": {
          "base_uri": "https://localhost:8080/"
        },
        "id": "DoxZ3StqxTR6",
        "outputId": "8173ccb4-5505-4462-81ec-87370fd838b2"
      },
      "execution_count": 48,
      "outputs": [
        {
          "output_type": "execute_result",
          "data": {
            "text/plain": [
              "[50, 20, 55, 101, 90, 25]"
            ]
          },
          "metadata": {},
          "execution_count": 48
        }
      ]
    },
    {
      "cell_type": "code",
      "source": [
        "runs.append(200)"
      ],
      "metadata": {
        "id": "vF5VS9vqxUqt"
      },
      "execution_count": 49,
      "outputs": []
    },
    {
      "cell_type": "code",
      "source": [
        "runs"
      ],
      "metadata": {
        "colab": {
          "base_uri": "https://localhost:8080/"
        },
        "id": "FZo-EqnRxbeT",
        "outputId": "9b42e348-2a11-47e4-99e1-f48f8a61db9c"
      },
      "execution_count": 50,
      "outputs": [
        {
          "output_type": "execute_result",
          "data": {
            "text/plain": [
              "[50, 20, 55, 101, 90, 25, 200]"
            ]
          },
          "metadata": {},
          "execution_count": 50
        }
      ]
    },
    {
      "cell_type": "code",
      "source": [
        "#insert(index, value): is used to insert at the given index"
      ],
      "metadata": {
        "id": "vSv6bJDZxcCZ"
      },
      "execution_count": null,
      "outputs": []
    },
    {
      "cell_type": "code",
      "source": [
        "runs"
      ],
      "metadata": {
        "colab": {
          "base_uri": "https://localhost:8080/"
        },
        "id": "1XryyM_Dxi0j",
        "outputId": "c9477e43-a2d7-460f-db39-b1326645eec3"
      },
      "execution_count": 51,
      "outputs": [
        {
          "output_type": "execute_result",
          "data": {
            "text/plain": [
              "[50, 20, 55, 101, 90, 25, 200]"
            ]
          },
          "metadata": {},
          "execution_count": 51
        }
      ]
    },
    {
      "cell_type": "code",
      "source": [
        "runs.insert(2, 10)"
      ],
      "metadata": {
        "id": "CmHRnbpfxirt"
      },
      "execution_count": 52,
      "outputs": []
    },
    {
      "cell_type": "code",
      "source": [
        "runs"
      ],
      "metadata": {
        "colab": {
          "base_uri": "https://localhost:8080/"
        },
        "id": "Xnp0saACxsmb",
        "outputId": "6b3eae33-d826-421e-e93c-974bf61ddf17"
      },
      "execution_count": 53,
      "outputs": [
        {
          "output_type": "execute_result",
          "data": {
            "text/plain": [
              "[50, 20, 10, 55, 101, 90, 25, 200]"
            ]
          },
          "metadata": {},
          "execution_count": 53
        }
      ]
    },
    {
      "cell_type": "code",
      "source": [
        "a = [4,7,1]\n",
        "a.insert(2,9)\n",
        "print(a)"
      ],
      "metadata": {
        "colab": {
          "base_uri": "https://localhost:8080/"
        },
        "id": "_ayOzio9x5tn",
        "outputId": "0ea6d0e5-2983-4f14-ce7c-983207e3ab15"
      },
      "execution_count": 55,
      "outputs": [
        {
          "output_type": "stream",
          "name": "stdout",
          "text": [
            "[4, 7, 9, 1]\n"
          ]
        }
      ]
    },
    {
      "cell_type": "code",
      "source": [
        "#extend"
      ],
      "metadata": {
        "id": "svjMxnDNxthR"
      },
      "execution_count": 54,
      "outputs": []
    },
    {
      "cell_type": "code",
      "source": [
        "runs"
      ],
      "metadata": {
        "colab": {
          "base_uri": "https://localhost:8080/"
        },
        "id": "QP5LPylwx5If",
        "outputId": "80cab8ed-050e-446c-ac88-d9c3abc8fdfc"
      },
      "execution_count": 57,
      "outputs": [
        {
          "output_type": "execute_result",
          "data": {
            "text/plain": [
              "[50, 20, 10, 55, 101, 90, 25, 200]"
            ]
          },
          "metadata": {},
          "execution_count": 57
        }
      ]
    },
    {
      "cell_type": "code",
      "source": [
        "runs.extend([4,7,8])"
      ],
      "metadata": {
        "id": "neg1GZYgyRme"
      },
      "execution_count": 58,
      "outputs": []
    },
    {
      "cell_type": "code",
      "source": [
        "runs"
      ],
      "metadata": {
        "colab": {
          "base_uri": "https://localhost:8080/"
        },
        "id": "unYncvP4yeQr",
        "outputId": "6bfb47bb-0a69-4e32-86ba-1dde76bc39c3"
      },
      "execution_count": 59,
      "outputs": [
        {
          "output_type": "execute_result",
          "data": {
            "text/plain": [
              "[50, 20, 10, 55, 101, 90, 25, 200, 4, 7, 8]"
            ]
          },
          "metadata": {},
          "execution_count": 59
        }
      ]
    },
    {
      "cell_type": "code",
      "source": [
        "runs.extend([4])"
      ],
      "metadata": {
        "id": "BesGcG4Bye_Y"
      },
      "execution_count": 61,
      "outputs": []
    },
    {
      "cell_type": "code",
      "source": [
        "runs"
      ],
      "metadata": {
        "colab": {
          "base_uri": "https://localhost:8080/"
        },
        "id": "11vIqUdVymAT",
        "outputId": "eb76a32a-321b-492e-ebb3-9d4c7c184824"
      },
      "execution_count": 62,
      "outputs": [
        {
          "output_type": "execute_result",
          "data": {
            "text/plain": [
              "[50, 20, 10, 55, 101, 90, 25, 200, 4, 7, 8, 4]"
            ]
          },
          "metadata": {},
          "execution_count": 62
        }
      ]
    },
    {
      "cell_type": "code",
      "source": [
        "a = [5,6,1]\n",
        "b = [3,4]\n",
        "a.extend(b)\n",
        "print(a)"
      ],
      "metadata": {
        "colab": {
          "base_uri": "https://localhost:8080/"
        },
        "id": "8SqyoEAcyp29",
        "outputId": "1fb8034f-b638-438a-9b34-da9b8f2215d7"
      },
      "execution_count": 63,
      "outputs": [
        {
          "output_type": "stream",
          "name": "stdout",
          "text": [
            "[5, 6, 1, 3, 4]\n"
          ]
        }
      ]
    },
    {
      "cell_type": "code",
      "source": [
        "#append, insert and extend --> inplace: it doesnt return a new list but makes modifications to the original list itself"
      ],
      "metadata": {
        "id": "FlDYU0WTyyj3"
      },
      "execution_count": null,
      "outputs": []
    },
    {
      "cell_type": "code",
      "source": [
        "a = [5,6,1]\n",
        "b = a.append(9)\n",
        "print(a)\n",
        "print(b)"
      ],
      "metadata": {
        "colab": {
          "base_uri": "https://localhost:8080/"
        },
        "id": "N_Z5cYnGzJyA",
        "outputId": "79b7193c-54ca-4126-f791-c0a55a42a622"
      },
      "execution_count": 64,
      "outputs": [
        {
          "output_type": "stream",
          "name": "stdout",
          "text": [
            "[5, 6, 1, 9]\n",
            "None\n"
          ]
        }
      ]
    },
    {
      "cell_type": "code",
      "source": [
        "def solve():\n",
        "  print(1)"
      ],
      "metadata": {
        "id": "Vwkz55mTzkYb"
      },
      "execution_count": 65,
      "outputs": []
    },
    {
      "cell_type": "code",
      "source": [
        "c = solve()"
      ],
      "metadata": {
        "colab": {
          "base_uri": "https://localhost:8080/"
        },
        "id": "oGp6nawqzv5S",
        "outputId": "15c6938d-1c70-41df-f538-03ffc1e42f23"
      },
      "execution_count": 66,
      "outputs": [
        {
          "output_type": "stream",
          "name": "stdout",
          "text": [
            "1\n"
          ]
        }
      ]
    },
    {
      "cell_type": "code",
      "source": [
        "print(c)"
      ],
      "metadata": {
        "colab": {
          "base_uri": "https://localhost:8080/"
        },
        "id": "Fc8pYmgHzxDQ",
        "outputId": "016eead2-d25c-46e8-eec4-1c2e7237ee3e"
      },
      "execution_count": 67,
      "outputs": [
        {
          "output_type": "stream",
          "name": "stdout",
          "text": [
            "None\n"
          ]
        }
      ]
    },
    {
      "cell_type": "code",
      "source": [
        "b = a"
      ],
      "metadata": {
        "id": "y0KYtHRbzzUS"
      },
      "execution_count": 68,
      "outputs": []
    },
    {
      "cell_type": "code",
      "source": [
        "print(b)"
      ],
      "metadata": {
        "colab": {
          "base_uri": "https://localhost:8080/"
        },
        "id": "TZLlASV20K4m",
        "outputId": "ce94c54e-c311-4a4a-d29b-f7bfc6f5d025"
      },
      "execution_count": 69,
      "outputs": [
        {
          "output_type": "stream",
          "name": "stdout",
          "text": [
            "[5, 6, 1, 9]\n"
          ]
        }
      ]
    },
    {
      "cell_type": "code",
      "source": [
        "#another syntax"
      ],
      "metadata": {
        "id": "DkLtSM_v0L-y"
      },
      "execution_count": 70,
      "outputs": []
    },
    {
      "cell_type": "code",
      "source": [
        "a = [4, 2, 7 , 8]"
      ],
      "metadata": {
        "id": "sXqMn6KA0YLe"
      },
      "execution_count": 71,
      "outputs": []
    },
    {
      "cell_type": "code",
      "source": [
        "b = a + [2]"
      ],
      "metadata": {
        "id": "Ui1yvY6S0gec"
      },
      "execution_count": 72,
      "outputs": []
    },
    {
      "cell_type": "code",
      "source": [
        "print(b)"
      ],
      "metadata": {
        "colab": {
          "base_uri": "https://localhost:8080/"
        },
        "id": "Xvxt0SUu0jRG",
        "outputId": "83c5a102-b9d1-49f6-86d6-1b0523c332c1"
      },
      "execution_count": 73,
      "outputs": [
        {
          "output_type": "stream",
          "name": "stdout",
          "text": [
            "[4, 2, 7, 8, 2]\n"
          ]
        }
      ]
    },
    {
      "cell_type": "code",
      "source": [
        "print(a)"
      ],
      "metadata": {
        "colab": {
          "base_uri": "https://localhost:8080/"
        },
        "id": "SDBeH3OV0khc",
        "outputId": "e99ca3d6-2cf4-493d-fa9b-3bdea12f7261"
      },
      "execution_count": 74,
      "outputs": [
        {
          "output_type": "stream",
          "name": "stdout",
          "text": [
            "[4, 2, 7, 8]\n"
          ]
        }
      ]
    },
    {
      "cell_type": "code",
      "source": [
        "b = a + [4,6,7]"
      ],
      "metadata": {
        "id": "dtLbu1qa0tDE"
      },
      "execution_count": 75,
      "outputs": []
    },
    {
      "cell_type": "code",
      "source": [
        "print(b)"
      ],
      "metadata": {
        "colab": {
          "base_uri": "https://localhost:8080/"
        },
        "id": "g52awnya0zJP",
        "outputId": "19a3d86c-8988-429c-e210-5bb0ce367aca"
      },
      "execution_count": 76,
      "outputs": [
        {
          "output_type": "stream",
          "name": "stdout",
          "text": [
            "[4, 2, 7, 8, 4, 6, 7]\n"
          ]
        }
      ]
    },
    {
      "cell_type": "code",
      "source": [
        "c = a + 2"
      ],
      "metadata": {
        "colab": {
          "base_uri": "https://localhost:8080/",
          "height": 178
        },
        "id": "r9UwigLR0z8A",
        "outputId": "d57df7d7-32d6-4bd5-b70c-a1db729c5c65"
      },
      "execution_count": 78,
      "outputs": [
        {
          "output_type": "error",
          "ename": "TypeError",
          "evalue": "ignored",
          "traceback": [
            "\u001b[0;31m---------------------------------------------------------------------------\u001b[0m",
            "\u001b[0;31mTypeError\u001b[0m                                 Traceback (most recent call last)",
            "\u001b[0;32m<ipython-input-78-684147e83a69>\u001b[0m in \u001b[0;36m<cell line: 1>\u001b[0;34m()\u001b[0m\n\u001b[0;32m----> 1\u001b[0;31m \u001b[0mc\u001b[0m \u001b[0;34m=\u001b[0m \u001b[0ma\u001b[0m \u001b[0;34m+\u001b[0m\u001b[0;36m2\u001b[0m\u001b[0;34m\u001b[0m\u001b[0;34m\u001b[0m\u001b[0m\n\u001b[0m",
            "\u001b[0;31mTypeError\u001b[0m: can only concatenate list (not \"int\") to list"
          ]
        }
      ]
    },
    {
      "cell_type": "code",
      "source": [
        "a = [4, 2, 7 , 8]\n",
        "a = a + [6,7]\n",
        "\n",
        "print(a)"
      ],
      "metadata": {
        "colab": {
          "base_uri": "https://localhost:8080/"
        },
        "id": "o8L5JTMj023D",
        "outputId": "5bb23d51-b222-44bd-e4ee-edc74ec24ff1"
      },
      "execution_count": 79,
      "outputs": [
        {
          "output_type": "stream",
          "name": "stdout",
          "text": [
            "[4, 2, 7, 8, 6, 7]\n"
          ]
        }
      ]
    },
    {
      "cell_type": "code",
      "source": [
        "#how to iterate over the list?"
      ],
      "metadata": {
        "id": "9d7gDV-J1OAY"
      },
      "execution_count": 80,
      "outputs": []
    },
    {
      "cell_type": "code",
      "source": [
        "for i in range(5):\n",
        "  print(i)"
      ],
      "metadata": {
        "colab": {
          "base_uri": "https://localhost:8080/"
        },
        "id": "FEtmM_cp4Iui",
        "outputId": "af82fb6e-cf1f-4317-8a59-701122e2260e"
      },
      "execution_count": 81,
      "outputs": [
        {
          "output_type": "stream",
          "name": "stdout",
          "text": [
            "0\n",
            "1\n",
            "2\n",
            "3\n",
            "4\n"
          ]
        }
      ]
    },
    {
      "cell_type": "code",
      "source": [
        "list(range(5))"
      ],
      "metadata": {
        "colab": {
          "base_uri": "https://localhost:8080/"
        },
        "id": "OWRFM0y84NAZ",
        "outputId": "0e189728-b598-4b38-e5ef-16a1cfb627f0"
      },
      "execution_count": 82,
      "outputs": [
        {
          "output_type": "execute_result",
          "data": {
            "text/plain": [
              "[0, 1, 2, 3, 4]"
            ]
          },
          "metadata": {},
          "execution_count": 82
        }
      ]
    },
    {
      "cell_type": "code",
      "source": [
        "for i in [0,1,2,3]:\n",
        "  print(i)"
      ],
      "metadata": {
        "colab": {
          "base_uri": "https://localhost:8080/"
        },
        "id": "TyxUCEea4Quz",
        "outputId": "2612316f-009e-4d55-e11e-7bec47067688"
      },
      "execution_count": 83,
      "outputs": [
        {
          "output_type": "stream",
          "name": "stdout",
          "text": [
            "0\n",
            "1\n",
            "2\n",
            "3\n"
          ]
        }
      ]
    },
    {
      "cell_type": "code",
      "source": [
        "a = [9 ,4, 1]\n",
        "\n",
        "for elem in a:\n",
        "  print(elem)"
      ],
      "metadata": {
        "colab": {
          "base_uri": "https://localhost:8080/"
        },
        "id": "A8IJR7LL4XWW",
        "outputId": "0c1f911c-96b1-44ff-ec4b-9da125551b85"
      },
      "execution_count": 84,
      "outputs": [
        {
          "output_type": "stream",
          "name": "stdout",
          "text": [
            "9\n",
            "4\n",
            "1\n"
          ]
        }
      ]
    },
    {
      "cell_type": "code",
      "source": [
        "#print all the elements of the list in new line"
      ],
      "metadata": {
        "id": "a4H6_CE74jCy"
      },
      "execution_count": null,
      "outputs": []
    },
    {
      "cell_type": "code",
      "source": [
        "a = [9 ,4, 1]"
      ],
      "metadata": {
        "id": "AZaiBHG84uyj"
      },
      "execution_count": 85,
      "outputs": []
    },
    {
      "cell_type": "code",
      "source": [
        "print(a[0])\n",
        "print(a[1])\n",
        "print(a[2])"
      ],
      "metadata": {
        "colab": {
          "base_uri": "https://localhost:8080/"
        },
        "id": "VdrxbDnX4x_3",
        "outputId": "1f49d7c8-3fd1-4457-cc4f-327bd2662f55"
      },
      "execution_count": 86,
      "outputs": [
        {
          "output_type": "stream",
          "name": "stdout",
          "text": [
            "9\n",
            "4\n",
            "1\n"
          ]
        }
      ]
    },
    {
      "cell_type": "code",
      "source": [
        "for i in [0,1,2]:\n",
        "  print(i)"
      ],
      "metadata": {
        "colab": {
          "base_uri": "https://localhost:8080/"
        },
        "id": "UsDUg2aA430x",
        "outputId": "337d6056-2eba-4422-a8e4-b3409465560e"
      },
      "execution_count": 87,
      "outputs": [
        {
          "output_type": "stream",
          "name": "stdout",
          "text": [
            "0\n",
            "1\n",
            "2\n"
          ]
        }
      ]
    },
    {
      "cell_type": "code",
      "source": [
        "for i in [0,1,2]:\n",
        "  print(a[i])"
      ],
      "metadata": {
        "colab": {
          "base_uri": "https://localhost:8080/"
        },
        "id": "4mH9hjV05AIB",
        "outputId": "c7b9103a-3249-4d7d-de28-a6753079ca91"
      },
      "execution_count": 88,
      "outputs": [
        {
          "output_type": "stream",
          "name": "stdout",
          "text": [
            "9\n",
            "4\n",
            "1\n"
          ]
        }
      ]
    },
    {
      "cell_type": "code",
      "source": [
        "n = len(a)\n",
        "for i in range(0, n):\n",
        "  print(a[i])"
      ],
      "metadata": {
        "colab": {
          "base_uri": "https://localhost:8080/"
        },
        "id": "KXf3wMAt5HGX",
        "outputId": "4c56a4aa-881a-4c6e-bd77-14a55796a589"
      },
      "execution_count": 89,
      "outputs": [
        {
          "output_type": "stream",
          "name": "stdout",
          "text": [
            "9\n",
            "4\n",
            "1\n"
          ]
        }
      ]
    },
    {
      "cell_type": "code",
      "source": [
        "for elem in a:\n",
        "  print(elem)"
      ],
      "metadata": {
        "colab": {
          "base_uri": "https://localhost:8080/"
        },
        "id": "fefLwThM5nxz",
        "outputId": "f902e509-715d-47e4-b322-d39854aa5bb6"
      },
      "execution_count": 91,
      "outputs": [
        {
          "output_type": "stream",
          "name": "stdout",
          "text": [
            "9\n",
            "4\n",
            "1\n"
          ]
        }
      ]
    },
    {
      "cell_type": "code",
      "source": [
        "#Q1: Given a list, print the sum of all the elements in it\n",
        "\n",
        "# a = [4, 3 ,6, 1]\n",
        "# op = 14"
      ],
      "metadata": {
        "id": "1wdpf_ic5vaW"
      },
      "execution_count": null,
      "outputs": []
    },
    {
      "cell_type": "code",
      "source": [
        "a = [4, 3 ,6, 1]\n",
        "\n",
        "for elem in a:\n",
        "  print(elem)"
      ],
      "metadata": {
        "colab": {
          "base_uri": "https://localhost:8080/"
        },
        "id": "SJ_t5DZH6lp0",
        "outputId": "d503fccc-0c16-4924-951c-c79d05e337ed"
      },
      "execution_count": 92,
      "outputs": [
        {
          "output_type": "stream",
          "name": "stdout",
          "text": [
            "4\n",
            "3\n",
            "6\n",
            "1\n"
          ]
        }
      ]
    },
    {
      "cell_type": "code",
      "source": [
        "a = [4, 3 ,6, 1]\n",
        "sum = 0 #initialization\n",
        "\n",
        "for elem in a:\n",
        "  sum = sum + elem\n",
        "\n",
        "print(sum)"
      ],
      "metadata": {
        "colab": {
          "base_uri": "https://localhost:8080/"
        },
        "id": "vleWO0Hv6pM3",
        "outputId": "5fdff17f-d958-46a3-a0ca-917a896ad1b6"
      },
      "execution_count": 96,
      "outputs": [
        {
          "output_type": "stream",
          "name": "stdout",
          "text": [
            "14\n"
          ]
        }
      ]
    },
    {
      "cell_type": "code",
      "source": [
        "#version 2\n",
        "n = len(a)\n",
        "sum = 0\n",
        "\n",
        "for i in range(n):\n",
        "  sum += a[i]\n",
        "\n",
        "print(sum)"
      ],
      "metadata": {
        "colab": {
          "base_uri": "https://localhost:8080/"
        },
        "id": "3iaxyEe08ORV",
        "outputId": "15327adc-5d45-4f02-9529-e0d65d13a6a1"
      },
      "execution_count": 98,
      "outputs": [
        {
          "output_type": "stream",
          "name": "stdout",
          "text": [
            "14\n"
          ]
        }
      ]
    },
    {
      "cell_type": "code",
      "source": [
        "#practice like this\n",
        "\n",
        "a = [4, 3 ,6, 1]\n",
        "sum = 0 #initialization\n",
        "\n",
        "for i in range(len(a)):\n",
        "  sum = sum + a[i]\n",
        "  print(sum)"
      ],
      "metadata": {
        "colab": {
          "base_uri": "https://localhost:8080/"
        },
        "id": "5lY5eypO6txe",
        "outputId": "6ebdc777-10aa-44e1-a2a3-6711ea7af054"
      },
      "execution_count": 97,
      "outputs": [
        {
          "output_type": "stream",
          "name": "stdout",
          "text": [
            "4\n",
            "7\n",
            "13\n",
            "14\n"
          ]
        }
      ]
    },
    {
      "cell_type": "code",
      "source": [
        "#Q2: Find the average of all the elements of the list\n",
        "# a = [4, 3 ,6, 1]\n",
        "# op: 14/4 = 3.5"
      ],
      "metadata": {
        "id": "EZTyugZC7-RS"
      },
      "execution_count": null,
      "outputs": []
    },
    {
      "cell_type": "code",
      "source": [
        "#version 2\n",
        "n = len(a)\n",
        "sum = 0\n",
        "\n",
        "for i in range(n):\n",
        "  sum += a[i]\n",
        "\n",
        "avg = sum/n\n",
        "print(avg)"
      ],
      "metadata": {
        "colab": {
          "base_uri": "https://localhost:8080/"
        },
        "id": "SwoZa4wV8uBn",
        "outputId": "4b54b1cf-8c4c-44d2-82d0-b2cc5b702d0c"
      },
      "execution_count": 99,
      "outputs": [
        {
          "output_type": "stream",
          "name": "stdout",
          "text": [
            "3.5\n"
          ]
        }
      ]
    },
    {
      "cell_type": "code",
      "source": [
        "#Q4: Find the max element in the list - without using any predefined method"
      ],
      "metadata": {
        "id": "ZeZTRgXY8zss"
      },
      "execution_count": null,
      "outputs": []
    },
    {
      "cell_type": "code",
      "source": [
        "a = [4,3,6,1,11]\n",
        "max(a)"
      ],
      "metadata": {
        "colab": {
          "base_uri": "https://localhost:8080/"
        },
        "id": "m44Y7gLT9GWX",
        "outputId": "50163e25-aa71-483d-ba4f-46db0a72ea15"
      },
      "execution_count": 101,
      "outputs": [
        {
          "output_type": "execute_result",
          "data": {
            "text/plain": [
              "11"
            ]
          },
          "metadata": {},
          "execution_count": 101
        }
      ]
    },
    {
      "cell_type": "code",
      "source": [
        "min(a)"
      ],
      "metadata": {
        "colab": {
          "base_uri": "https://localhost:8080/"
        },
        "id": "XM_2YYW99M-W",
        "outputId": "b7ded53a-77aa-4cf3-bed8-0d226e6465ea"
      },
      "execution_count": 102,
      "outputs": [
        {
          "output_type": "execute_result",
          "data": {
            "text/plain": [
              "1"
            ]
          },
          "metadata": {},
          "execution_count": 102
        }
      ]
    },
    {
      "cell_type": "code",
      "source": [
        "a = [4,3,6,1,11]\n",
        "\n",
        "curr_max = 0\n",
        "\n",
        "for elem in a:\n",
        "  if elem > curr_max:\n",
        "    curr_max = elem\n",
        "\n",
        "\n",
        "print(curr_max)"
      ],
      "metadata": {
        "colab": {
          "base_uri": "https://localhost:8080/"
        },
        "id": "Co6xTxnj9QUx",
        "outputId": "07376d61-3e4f-4676-c432-70963783e36e"
      },
      "execution_count": 104,
      "outputs": [
        {
          "output_type": "stream",
          "name": "stdout",
          "text": [
            "11\n"
          ]
        }
      ]
    },
    {
      "cell_type": "code",
      "source": [
        "a = [-4, -3 ,-6, -1]\n",
        "\n",
        "\n",
        "curr_max = 0 #possible mistake\n",
        "\n",
        "for elem in a:\n",
        "  if elem > curr_max:\n",
        "    curr_max = elem\n",
        "\n",
        "\n",
        "print(curr_max)"
      ],
      "metadata": {
        "colab": {
          "base_uri": "https://localhost:8080/"
        },
        "id": "SplQt_eQ-cjC",
        "outputId": "d01e0649-bf21-43bb-f29f-97f5dd9b880a"
      },
      "execution_count": 105,
      "outputs": [
        {
          "output_type": "stream",
          "name": "stdout",
          "text": [
            "0\n"
          ]
        }
      ]
    },
    {
      "cell_type": "code",
      "source": [
        "#revise this code - 2 times atlease --> using a pen and paper - IMP\n",
        "\n",
        "a = [-4, -3 ,-6, -1]\n",
        "\n",
        "\n",
        "curr_max = a[0] #initialization\n",
        "\n",
        "for elem in a:\n",
        "  if elem > curr_max:\n",
        "    curr_max = elem\n",
        "\n",
        "\n",
        "print(curr_max)"
      ],
      "metadata": {
        "colab": {
          "base_uri": "https://localhost:8080/"
        },
        "id": "hljMW6uJ_HVY",
        "outputId": "c4de0b84-a4e3-450d-e49d-d2002f259517"
      },
      "execution_count": 107,
      "outputs": [
        {
          "output_type": "stream",
          "name": "stdout",
          "text": [
            "-1\n"
          ]
        }
      ]
    },
    {
      "cell_type": "code",
      "source": [
        "#Q3: Find the min element in the list"
      ],
      "metadata": {
        "id": "rWH3u-fe_cj9"
      },
      "execution_count": null,
      "outputs": []
    },
    {
      "cell_type": "code",
      "source": [
        "#revise this code - 2 times atlease --> using a pen and paper - IMP\n",
        "\n",
        "a = [-4, -3 ,-6, -1]\n",
        "\n",
        "\n",
        "curr_min = a[0] #initialization\n",
        "\n",
        "for elem in a:\n",
        "  if elem < curr_min:\n",
        "    curr_min = elem\n",
        "\n",
        "\n",
        "print(curr_min)"
      ],
      "metadata": {
        "colab": {
          "base_uri": "https://localhost:8080/"
        },
        "id": "jhiOZmnU_7to",
        "outputId": "c5140ada-bf91-45c2-b17c-fca80bd4da62"
      },
      "execution_count": 108,
      "outputs": [
        {
          "output_type": "stream",
          "name": "stdout",
          "text": [
            "-6\n"
          ]
        }
      ]
    },
    {
      "cell_type": "code",
      "source": [
        "#revise this code - 2 times atlease --> using a pen and paper - IMP\n",
        "\n",
        "a = [4,7,3,9]\n",
        "\n",
        "\n",
        "curr_min = a[0] #initialization\n",
        "\n",
        "for elem in a:\n",
        "  if elem < curr_min:\n",
        "    curr_min = elem\n",
        "\n",
        "\n",
        "print(curr_min)"
      ],
      "metadata": {
        "colab": {
          "base_uri": "https://localhost:8080/"
        },
        "id": "vWGcQVDaAFix",
        "outputId": "50faf8fb-babc-4981-feba-93b285115773"
      },
      "execution_count": 109,
      "outputs": [
        {
          "output_type": "stream",
          "name": "stdout",
          "text": [
            "3\n"
          ]
        }
      ]
    },
    {
      "cell_type": "code",
      "source": [
        "'''\n",
        "Given a list, find the sum of the elements present at the odd index\n",
        "'''\n",
        "\n",
        "# a = [5,3,4,1,8]\n",
        "#op:  4"
      ],
      "metadata": {
        "colab": {
          "base_uri": "https://localhost:8080/",
          "height": 36
        },
        "id": "7zz7Rc7UAJDC",
        "outputId": "e547f399-42c7-4715-d90f-295c7d830fa9"
      },
      "execution_count": 110,
      "outputs": [
        {
          "output_type": "execute_result",
          "data": {
            "text/plain": [
              "'\\nGiven a list, find the sum of the elements present at the odd index\\n'"
            ],
            "application/vnd.google.colaboratory.intrinsic+json": {
              "type": "string"
            }
          },
          "metadata": {},
          "execution_count": 110
        }
      ]
    },
    {
      "cell_type": "code",
      "source": [
        "a = [5,3,4,1,8]\n",
        "n = len(a)\n",
        "sum = 0\n",
        "\n",
        "\n",
        "for i in range(n):\n",
        "  if i%2 == 1:\n",
        "    sum += a[i]\n",
        "\n",
        "print(sum)"
      ],
      "metadata": {
        "colab": {
          "base_uri": "https://localhost:8080/"
        },
        "id": "1D9FzpFIAijH",
        "outputId": "095c9914-7a31-461a-9723-a58779a05a3b"
      },
      "execution_count": 112,
      "outputs": [
        {
          "output_type": "stream",
          "name": "stdout",
          "text": [
            "4\n"
          ]
        }
      ]
    },
    {
      "cell_type": "code",
      "source": [
        "#give me sum of all the even elements - HW\n",
        "\n",
        "#incorrect\n",
        "a = [5,3,4,1,8]\n",
        "n = len(a)\n",
        "sum = 0\n",
        "\n",
        "\n",
        "for i in range(n):\n",
        "  if i%2 == 0:\n",
        "    sum += a[i]\n",
        "\n",
        "print(sum)"
      ],
      "metadata": {
        "id": "RSVltrNeA_Fr"
      },
      "execution_count": null,
      "outputs": []
    },
    {
      "cell_type": "code",
      "source": [
        "#give me sum of all the even elements - HW\n",
        "\n",
        "#incorrect\n",
        "a = [5,3,4,1,8]\n",
        "n = len(a)\n",
        "sum = 0\n",
        "\n",
        "\n",
        "for i in range(n):\n",
        "  if a[i]%2 == 0:\n",
        "    sum += a[i]\n",
        "\n",
        "print(sum)"
      ],
      "metadata": {
        "colab": {
          "base_uri": "https://localhost:8080/"
        },
        "id": "ahl0ULjKBaBx",
        "outputId": "80f0bcf3-f2da-41e7-e5c2-c43c1c6b33fc"
      },
      "execution_count": 113,
      "outputs": [
        {
          "output_type": "stream",
          "name": "stdout",
          "text": [
            "12\n"
          ]
        }
      ]
    },
    {
      "cell_type": "code",
      "source": [
        "#give me sum of all the even elements\n",
        "sum = 0\n",
        "\n",
        "for elem in a:\n",
        "  if elem%2 == 0:\n",
        "    sum += elem\n",
        "\n",
        "print(sum)"
      ],
      "metadata": {
        "colab": {
          "base_uri": "https://localhost:8080/"
        },
        "id": "qTc_GoDOBijp",
        "outputId": "f5c72dc2-349c-4b40-d975-c643a3079cbd"
      },
      "execution_count": 115,
      "outputs": [
        {
          "output_type": "stream",
          "name": "stdout",
          "text": [
            "12\n"
          ]
        }
      ]
    },
    {
      "cell_type": "code",
      "source": [
        "'''\n",
        "Given a list, find the sum of the elements present at the odd index --> without using if condition\n",
        "#HW\n",
        "'''\n",
        "\n",
        "# a = [5,3,4,1,8]\n",
        "#op:  4"
      ],
      "metadata": {
        "id": "2-EQFD09B06M"
      },
      "execution_count": null,
      "outputs": []
    },
    {
      "cell_type": "code",
      "source": [
        "#list slicing"
      ],
      "metadata": {
        "id": "TWra8_KGCX09"
      },
      "execution_count": 116,
      "outputs": []
    },
    {
      "cell_type": "code",
      "source": [
        "'''\n",
        "Q2 - Given a list of integers, create a new list that contains the elements present at the first 4 positions.\n",
        "\n",
        "a = [1,6,4,5,2,3,9]\n",
        "op: [1, 6, 4, 5]\n",
        "\n",
        "'''"
      ],
      "metadata": {
        "id": "NQSp23rPCdNM"
      },
      "execution_count": null,
      "outputs": []
    },
    {
      "cell_type": "code",
      "source": [
        "a = [1, 6, 4, 5, 2, 3, 9]\n",
        "b = [] #empty list\n",
        "\n",
        "for i in range(4):\n",
        "  b.append(a[i])\n",
        "  print(b)"
      ],
      "metadata": {
        "colab": {
          "base_uri": "https://localhost:8080/"
        },
        "id": "QhS2jueWDlE2",
        "outputId": "1d3e156c-999d-4ca4-d4ba-a88efcc781c2"
      },
      "execution_count": 120,
      "outputs": [
        {
          "output_type": "stream",
          "name": "stdout",
          "text": [
            "[1]\n",
            "[1, 6]\n",
            "[1, 6, 4]\n",
            "[1, 6, 4, 5]\n"
          ]
        }
      ]
    },
    {
      "cell_type": "code",
      "source": [
        "print(b)"
      ],
      "metadata": {
        "colab": {
          "base_uri": "https://localhost:8080/"
        },
        "id": "989llqPDEJXv",
        "outputId": "c31bd3e4-b599-4158-b3ae-99ced84054f1"
      },
      "execution_count": 121,
      "outputs": [
        {
          "output_type": "stream",
          "name": "stdout",
          "text": [
            "[1, 6, 4, 5]\n"
          ]
        }
      ]
    },
    {
      "cell_type": "code",
      "source": [
        "a = [1, 6, 4, 5, 2, 3, 9]\n",
        "b = [] #empty list\n",
        "\n",
        "for i in range(4):\n",
        "  b.append(a[i])\n",
        "\n",
        "\n",
        "print(b)"
      ],
      "metadata": {
        "colab": {
          "base_uri": "https://localhost:8080/"
        },
        "id": "sxyDA2fbESKl",
        "outputId": "8c419297-3549-46d7-a986-d1ca73440e59"
      },
      "execution_count": 122,
      "outputs": [
        {
          "output_type": "stream",
          "name": "stdout",
          "text": [
            "[1, 6, 4, 5]\n"
          ]
        }
      ]
    },
    {
      "cell_type": "code",
      "source": [],
      "metadata": {
        "id": "WFGzElmAExip"
      },
      "execution_count": null,
      "outputs": []
    }
  ]
}
{
  "nbformat": 4,
  "nbformat_minor": 0,
  "metadata": {
    "colab": {
      "provenance": [],
      "authorship_tag": "ABX9TyMhKLFYWRz3+QY41Gr2WgMb",
      "include_colab_link": true
    },
    "kernelspec": {
      "name": "python3",
      "display_name": "Python 3"
    },
    "language_info": {
      "name": "python"
    }
  },
  "cells": [
    {
      "cell_type": "markdown",
      "metadata": {
        "id": "view-in-github",
        "colab_type": "text"
      },
      "source": [
        "<a href=\"https://colab.research.google.com/github/adityajain2407/mar23-python-fast/blob/main/may23_functions_1.ipynb\" target=\"_parent\"><img src=\"https://colab.research.google.com/assets/colab-badge.svg\" alt=\"Open In Colab\"/></a>"
      ]
    },
    {
      "cell_type": "code",
      "execution_count": 1,
      "metadata": {
        "colab": {
          "base_uri": "https://localhost:8080/"
        },
        "id": "L2spx8BL4-xo",
        "outputId": "1c55475d-1b46-417d-92ca-8bcbe73d07cd"
      },
      "outputs": [
        {
          "output_type": "stream",
          "name": "stdout",
          "text": [
            "Hello everyone!!\n"
          ]
        }
      ],
      "source": [
        "print(\"Hello everyone!!\")"
      ]
    },
    {
      "cell_type": "code",
      "source": [
        "print(\"Dust all the rooms\")\n",
        "print(\"Arrange the living room\")\n",
        "print(\"Dont misbehave in front of them\")\n",
        "print(\"Greet them when they enter\")"
      ],
      "metadata": {
        "colab": {
          "base_uri": "https://localhost:8080/"
        },
        "id": "ZGe9sOod6dIZ",
        "outputId": "e12ccc1e-3fcb-4b75-90a7-24f83f6512e0"
      },
      "execution_count": 2,
      "outputs": [
        {
          "output_type": "stream",
          "name": "stdout",
          "text": [
            "Dust all the rooms\n",
            "Arrange the living room\n",
            "Dont misbehave in front of them\n",
            "Greet them when they enter\n"
          ]
        }
      ]
    },
    {
      "cell_type": "code",
      "source": [
        "print(\"Dust all the rooms\")\n",
        "print(\"Arrange the living room\")\n",
        "print(\"Dont misbehave in front of them\")\n",
        "print(\"Greet them when they enter\")"
      ],
      "metadata": {
        "colab": {
          "base_uri": "https://localhost:8080/"
        },
        "id": "ODMcvjPN60cx",
        "outputId": "7ed573ce-fc08-4fdb-aaa3-9abf2ddef91f"
      },
      "execution_count": 3,
      "outputs": [
        {
          "output_type": "stream",
          "name": "stdout",
          "text": [
            "Dust all the rooms\n",
            "Arrange the living room\n",
            "Dont misbehave in front of them\n",
            "Greet them when they enter\n"
          ]
        }
      ]
    },
    {
      "cell_type": "code",
      "source": [
        "# function--> designed to perfrom a dedicated functionality"
      ],
      "metadata": {
        "id": "6WrnP5hD63DF"
      },
      "execution_count": null,
      "outputs": []
    },
    {
      "cell_type": "code",
      "source": [
        "print(\"Add milk to container\")\n",
        "print(\"Boil it properly\")\n",
        "print(\"Add tea leaves\")\n",
        "print(\"Add sugar\")\n",
        "print(\"Serve it to the guests!\")"
      ],
      "metadata": {
        "colab": {
          "base_uri": "https://localhost:8080/"
        },
        "id": "9KmGvWU37FEL",
        "outputId": "64441d89-a122-4b51-eb2a-770becbf2d33"
      },
      "execution_count": 4,
      "outputs": [
        {
          "output_type": "stream",
          "name": "stdout",
          "text": [
            "Add milk to container\n",
            "Boil it properly\n",
            "Add tea leaves\n",
            "Add sugar\n",
            "Serve it to the guests!\n"
          ]
        }
      ]
    },
    {
      "cell_type": "code",
      "source": [
        "print(\"Add milk to container\")\n",
        "print(\"Boil it properly\")\n",
        "print(\"Add tea leaves\")\n",
        "print(\"Add sugar\")\n",
        "print(\"Serve it to the guests!\")"
      ],
      "metadata": {
        "colab": {
          "base_uri": "https://localhost:8080/"
        },
        "id": "t9TBtFY27HFL",
        "outputId": "44df12f7-85e0-4e1c-aac2-d28d463e6d6c"
      },
      "execution_count": 5,
      "outputs": [
        {
          "output_type": "stream",
          "name": "stdout",
          "text": [
            "Add milk to container\n",
            "Boil it properly\n",
            "Add tea leaves\n",
            "Add sugar\n",
            "Serve it to the guests!\n"
          ]
        }
      ]
    },
    {
      "cell_type": "code",
      "source": [
        "print(\"Add milk to container\")\n",
        "print(\"Boil it properly\")\n",
        "print(\"Add tea leaves\")\n",
        "print(\"Add sugar\")\n",
        "print(\"Serve it to the guests!\")"
      ],
      "metadata": {
        "colab": {
          "base_uri": "https://localhost:8080/"
        },
        "id": "zAx8D25x7H5X",
        "outputId": "f413b1d7-265f-44d7-fdf5-d829a23c4048"
      },
      "execution_count": 6,
      "outputs": [
        {
          "output_type": "stream",
          "name": "stdout",
          "text": [
            "Add milk to container\n",
            "Boil it properly\n",
            "Add tea leaves\n",
            "Add sugar\n",
            "Serve it to the guests!\n"
          ]
        }
      ]
    },
    {
      "cell_type": "code",
      "source": [
        "def make_tea():\n",
        "  print(\"Add milk to container\")\n",
        "  print(\"Boil it properly\")\n",
        "  print(\"Add tea leaves\")\n",
        "  print(\"Add sugar\")\n",
        "  print(\"Serve it to the guests!\")"
      ],
      "metadata": {
        "id": "bzjtQy4u7I1U"
      },
      "execution_count": 7,
      "outputs": []
    },
    {
      "cell_type": "code",
      "source": [
        "make_tea() #function calling"
      ],
      "metadata": {
        "colab": {
          "base_uri": "https://localhost:8080/"
        },
        "id": "CnnhMT5X74pK",
        "outputId": "689155a5-42dc-4189-ef77-f9af2f7673cb"
      },
      "execution_count": 8,
      "outputs": [
        {
          "output_type": "stream",
          "name": "stdout",
          "text": [
            "Add milk to container\n",
            "Boil it properly\n",
            "Add tea leaves\n",
            "Add sugar\n",
            "Serve it to the guests!\n"
          ]
        }
      ]
    },
    {
      "cell_type": "code",
      "source": [
        "make_tea()"
      ],
      "metadata": {
        "colab": {
          "base_uri": "https://localhost:8080/"
        },
        "id": "km0441z-7_rm",
        "outputId": "067e7715-8a17-4047-a8e8-f9bd191d66bb"
      },
      "execution_count": 9,
      "outputs": [
        {
          "output_type": "stream",
          "name": "stdout",
          "text": [
            "Add milk to container\n",
            "Boil it properly\n",
            "Add tea leaves\n",
            "Add sugar\n",
            "Serve it to the guests!\n"
          ]
        }
      ]
    },
    {
      "cell_type": "code",
      "source": [
        "make_tea()"
      ],
      "metadata": {
        "colab": {
          "base_uri": "https://localhost:8080/"
        },
        "id": "algQP1Zv8IIk",
        "outputId": "0e8a9a7c-fb64-4c42-cdd7-3d6ce891356a"
      },
      "execution_count": 10,
      "outputs": [
        {
          "output_type": "stream",
          "name": "stdout",
          "text": [
            "Add milk to container\n",
            "Boil it properly\n",
            "Add tea leaves\n",
            "Add sugar\n",
            "Serve it to the guests!\n"
          ]
        }
      ]
    },
    {
      "cell_type": "code",
      "source": [
        "# make_tea()\n",
        "\n",
        "# makeTea()\n",
        "\n",
        "# maketea()"
      ],
      "metadata": {
        "id": "MLNHs5gB8JE8"
      },
      "execution_count": null,
      "outputs": []
    },
    {
      "cell_type": "code",
      "source": [
        "def greet_guests():\n",
        "  print(\"Dust all the rooms\")\n",
        "  print(\"Arrange the living room\")\n",
        "  print(\"Dont misbehave in front of them\")\n",
        "  print(\"Greet them when they enter\")"
      ],
      "metadata": {
        "id": "6JM0uU4R8pxo"
      },
      "execution_count": 11,
      "outputs": []
    },
    {
      "cell_type": "code",
      "source": [
        "greet_guests()"
      ],
      "metadata": {
        "colab": {
          "base_uri": "https://localhost:8080/"
        },
        "id": "xDi-_Y6j84NF",
        "outputId": "f566accc-f414-454b-b880-44af77383229"
      },
      "execution_count": 12,
      "outputs": [
        {
          "output_type": "stream",
          "name": "stdout",
          "text": [
            "Dust all the rooms\n",
            "Arrange the living room\n",
            "Dont misbehave in front of them\n",
            "Greet them when they enter\n"
          ]
        }
      ]
    },
    {
      "cell_type": "code",
      "source": [
        "greet_guests()"
      ],
      "metadata": {
        "colab": {
          "base_uri": "https://localhost:8080/"
        },
        "id": "PkkzRIA-86_W",
        "outputId": "aa24e2d1-1c70-4191-f714-4dfb39a70679"
      },
      "execution_count": 13,
      "outputs": [
        {
          "output_type": "stream",
          "name": "stdout",
          "text": [
            "Dust all the rooms\n",
            "Arrange the living room\n",
            "Dont misbehave in front of them\n",
            "Greet them when they enter\n"
          ]
        }
      ]
    },
    {
      "cell_type": "code",
      "source": [
        "greet_guests()"
      ],
      "metadata": {
        "colab": {
          "base_uri": "https://localhost:8080/"
        },
        "id": "KWEQoqxA88S6",
        "outputId": "db8d2e33-8417-430b-be3d-1dc9f6f04d62"
      },
      "execution_count": 14,
      "outputs": [
        {
          "output_type": "stream",
          "name": "stdout",
          "text": [
            "Dust all the rooms\n",
            "Arrange the living room\n",
            "Dont misbehave in front of them\n",
            "Greet them when they enter\n"
          ]
        }
      ]
    },
    {
      "cell_type": "code",
      "source": [],
      "metadata": {
        "id": "vTl-rlWu88rM"
      },
      "execution_count": null,
      "outputs": []
    },
    {
      "cell_type": "code",
      "source": [
        "def solve():\n",
        "  print(\"1\")\n",
        "  print(\"2\")\n",
        "\n",
        "print(\"3\")"
      ],
      "metadata": {
        "colab": {
          "base_uri": "https://localhost:8080/"
        },
        "id": "UjTIU5uy9VGy",
        "outputId": "28aa95d4-b2e3-4980-b4c2-2f373b50f3ae"
      },
      "execution_count": 17,
      "outputs": [
        {
          "output_type": "stream",
          "name": "stdout",
          "text": [
            "3\n"
          ]
        }
      ]
    },
    {
      "cell_type": "code",
      "source": [
        "solve()"
      ],
      "metadata": {
        "colab": {
          "base_uri": "https://localhost:8080/"
        },
        "id": "QMY-qrv79dgI",
        "outputId": "3b99f86e-e935-4a01-b983-0b53cfaecd1f"
      },
      "execution_count": 18,
      "outputs": [
        {
          "output_type": "stream",
          "name": "stdout",
          "text": [
            "1\n",
            "2\n"
          ]
        }
      ]
    },
    {
      "cell_type": "code",
      "source": [
        "'''\n",
        "Q:\n",
        "Take a name as an input\n",
        "Write a greeting function that prints \"Hello name\" after accepting the name as parameter.\n",
        "\n",
        "ip: AJ\n",
        "op: Hello AJ\n",
        "\n",
        "ip: Sagar\n",
        "op: Hello Sagar\n",
        "\n",
        "'''"
      ],
      "metadata": {
        "id": "ZfxhUOn19l5e"
      },
      "execution_count": null,
      "outputs": []
    },
    {
      "cell_type": "code",
      "source": [
        "def greet_person(name):\n",
        "  print(\"Hello\", name)"
      ],
      "metadata": {
        "id": "xcGO3zE0-TdB"
      },
      "execution_count": 19,
      "outputs": []
    },
    {
      "cell_type": "code",
      "source": [
        "greet_person(\"AJ\")"
      ],
      "metadata": {
        "colab": {
          "base_uri": "https://localhost:8080/"
        },
        "id": "jkyPOPej-dQr",
        "outputId": "a2af13be-8a82-4aff-df8b-523996bde2bb"
      },
      "execution_count": 20,
      "outputs": [
        {
          "output_type": "stream",
          "name": "stdout",
          "text": [
            "Hello AJ\n"
          ]
        }
      ]
    },
    {
      "cell_type": "code",
      "source": [
        "greet_person(\"Harsha\")"
      ],
      "metadata": {
        "colab": {
          "base_uri": "https://localhost:8080/"
        },
        "id": "2oA1uRRm-kG5",
        "outputId": "f2442b8a-17f7-4b1e-9580-27bc056cb1cb"
      },
      "execution_count": 21,
      "outputs": [
        {
          "output_type": "stream",
          "name": "stdout",
          "text": [
            "Hello Harsha\n"
          ]
        }
      ]
    },
    {
      "cell_type": "code",
      "source": [
        "def greet_person(name):\n",
        "  print(\"Hello\", name)"
      ],
      "metadata": {
        "id": "rK6T-H5j-n4N"
      },
      "execution_count": null,
      "outputs": []
    },
    {
      "cell_type": "code",
      "source": [
        "name = input()"
      ],
      "metadata": {
        "colab": {
          "base_uri": "https://localhost:8080/"
        },
        "id": "F22EnlJM_BUp",
        "outputId": "7cb6617c-546e-42e2-b694-53b7ddae18a7"
      },
      "execution_count": 22,
      "outputs": [
        {
          "name": "stdout",
          "output_type": "stream",
          "text": [
            "Deepak\n"
          ]
        }
      ]
    },
    {
      "cell_type": "code",
      "source": [
        "greet_person(name)"
      ],
      "metadata": {
        "colab": {
          "base_uri": "https://localhost:8080/"
        },
        "id": "_V7kkqj-_I3V",
        "outputId": "bf3b8bd6-dffb-4c63-c7e7-ffc9be432fc7"
      },
      "execution_count": 23,
      "outputs": [
        {
          "output_type": "stream",
          "name": "stdout",
          "text": [
            "Hello Deepak\n"
          ]
        }
      ]
    },
    {
      "cell_type": "code",
      "source": [
        "n = \"Linson\"\n",
        "greet_person(n)"
      ],
      "metadata": {
        "colab": {
          "base_uri": "https://localhost:8080/"
        },
        "id": "rM_fTL_y_MCj",
        "outputId": "e060eb82-baa3-4b0e-e4da-2d4e605dabc5"
      },
      "execution_count": 24,
      "outputs": [
        {
          "output_type": "stream",
          "name": "stdout",
          "text": [
            "Hello Linson\n"
          ]
        }
      ]
    },
    {
      "cell_type": "code",
      "source": [
        "'''\n",
        "Print the specifications of a car\n",
        "\n",
        "color\n",
        "brand\n",
        "price\n",
        "\n",
        "'''"
      ],
      "metadata": {
        "id": "og_d8kON_iry"
      },
      "execution_count": null,
      "outputs": []
    },
    {
      "cell_type": "code",
      "source": [
        "def car_specifications(color, brand, price):\n",
        "  print(\"color is\", color)\n",
        "  print(\"brand is\", brand)\n",
        "  print(\"price is\", price)"
      ],
      "metadata": {
        "id": "lObWFp-PAqz1"
      },
      "execution_count": 25,
      "outputs": []
    },
    {
      "cell_type": "code",
      "source": [
        "car_specifications(\"Red\", \"Tesla\", 300)"
      ],
      "metadata": {
        "colab": {
          "base_uri": "https://localhost:8080/"
        },
        "id": "qUiNmkVhA3Vj",
        "outputId": "743b80a9-546e-406e-e8e9-b8bea9281d95"
      },
      "execution_count": 26,
      "outputs": [
        {
          "output_type": "stream",
          "name": "stdout",
          "text": [
            "color is Red\n",
            "brand is Tesla\n",
            "price is 300\n"
          ]
        }
      ]
    },
    {
      "cell_type": "code",
      "source": [
        "car_specifications(\"Blue\", \"Tata\", 400)"
      ],
      "metadata": {
        "colab": {
          "base_uri": "https://localhost:8080/"
        },
        "id": "wATpPc4SA_ew",
        "outputId": "eb701afb-0d0e-4b02-c01f-7d5378d0880b"
      },
      "execution_count": 27,
      "outputs": [
        {
          "output_type": "stream",
          "name": "stdout",
          "text": [
            "color is Blue\n",
            "brand is Tata\n",
            "price is 400\n"
          ]
        }
      ]
    },
    {
      "cell_type": "code",
      "source": [
        "car_specifications(\"Blue\", 400, \"Tata\")"
      ],
      "metadata": {
        "colab": {
          "base_uri": "https://localhost:8080/"
        },
        "id": "pfapwCNTBqvD",
        "outputId": "2725e722-56d3-4836-8262-eaefd52208e2"
      },
      "execution_count": 28,
      "outputs": [
        {
          "output_type": "stream",
          "name": "stdout",
          "text": [
            "color is Blue\n",
            "brand is 400\n",
            "price is Tata\n"
          ]
        }
      ]
    },
    {
      "cell_type": "code",
      "source": [
        "def solve(a,b,c):\n",
        "  print(a, b, c)"
      ],
      "metadata": {
        "id": "yw8acyzhB8dc"
      },
      "execution_count": 30,
      "outputs": []
    },
    {
      "cell_type": "code",
      "source": [
        "solve(1,5,3)"
      ],
      "metadata": {
        "colab": {
          "base_uri": "https://localhost:8080/"
        },
        "id": "3Z6Um6a_CJDB",
        "outputId": "a50b573b-d249-4e70-d442-e4462611052a"
      },
      "execution_count": 31,
      "outputs": [
        {
          "output_type": "stream",
          "name": "stdout",
          "text": [
            "1 5 3\n"
          ]
        }
      ]
    },
    {
      "cell_type": "code",
      "source": [
        "solve(4,5,1,3)"
      ],
      "metadata": {
        "colab": {
          "base_uri": "https://localhost:8080/",
          "height": 168
        },
        "id": "VXeSeSJdCRgT",
        "outputId": "41f6d6f2-c031-44c0-a847-84144f3ab4c2"
      },
      "execution_count": 32,
      "outputs": [
        {
          "output_type": "error",
          "ename": "TypeError",
          "evalue": "ignored",
          "traceback": [
            "\u001b[0;31m---------------------------------------------------------------------------\u001b[0m",
            "\u001b[0;31mTypeError\u001b[0m                                 Traceback (most recent call last)",
            "\u001b[0;32m<ipython-input-32-c9e3a49fb8df>\u001b[0m in \u001b[0;36m<cell line: 1>\u001b[0;34m()\u001b[0m\n\u001b[0;32m----> 1\u001b[0;31m \u001b[0msolve\u001b[0m\u001b[0;34m(\u001b[0m\u001b[0;36m4\u001b[0m\u001b[0;34m,\u001b[0m\u001b[0;36m5\u001b[0m\u001b[0;34m,\u001b[0m\u001b[0;36m1\u001b[0m\u001b[0;34m,\u001b[0m\u001b[0;36m3\u001b[0m\u001b[0;34m)\u001b[0m\u001b[0;34m\u001b[0m\u001b[0;34m\u001b[0m\u001b[0m\n\u001b[0m",
            "\u001b[0;31mTypeError\u001b[0m: solve() takes 3 positional arguments but 4 were given"
          ]
        }
      ]
    },
    {
      "cell_type": "code",
      "source": [
        "solve(3,4)"
      ],
      "metadata": {
        "colab": {
          "base_uri": "https://localhost:8080/",
          "height": 168
        },
        "id": "3PPNUBx2CXqk",
        "outputId": "95e9fef4-4ee5-402f-a656-41fbe4d45fcb"
      },
      "execution_count": 33,
      "outputs": [
        {
          "output_type": "error",
          "ename": "TypeError",
          "evalue": "ignored",
          "traceback": [
            "\u001b[0;31m---------------------------------------------------------------------------\u001b[0m",
            "\u001b[0;31mTypeError\u001b[0m                                 Traceback (most recent call last)",
            "\u001b[0;32m<ipython-input-33-45baa2559c82>\u001b[0m in \u001b[0;36m<cell line: 1>\u001b[0;34m()\u001b[0m\n\u001b[0;32m----> 1\u001b[0;31m \u001b[0msolve\u001b[0m\u001b[0;34m(\u001b[0m\u001b[0;36m3\u001b[0m\u001b[0;34m,\u001b[0m\u001b[0;36m4\u001b[0m\u001b[0;34m)\u001b[0m\u001b[0;34m\u001b[0m\u001b[0;34m\u001b[0m\u001b[0m\n\u001b[0m",
            "\u001b[0;31mTypeError\u001b[0m: solve() missing 1 required positional argument: 'c'"
          ]
        }
      ]
    },
    {
      "cell_type": "code",
      "source": [
        "solve(1,2,\" \" )"
      ],
      "metadata": {
        "colab": {
          "base_uri": "https://localhost:8080/"
        },
        "id": "HltjNCMjCpbx",
        "outputId": "8494710e-27af-4fcf-b84e-2be58b13aab5"
      },
      "execution_count": 34,
      "outputs": [
        {
          "output_type": "stream",
          "name": "stdout",
          "text": [
            "1 2  \n"
          ]
        }
      ]
    },
    {
      "cell_type": "code",
      "source": [],
      "metadata": {
        "colab": {
          "base_uri": "https://localhost:8080/",
          "height": 132
        },
        "id": "Exv9XCtEC_5z",
        "outputId": "05e7cdb6-f7d6-46fe-88ca-3ed42d0ba547"
      },
      "execution_count": 35,
      "outputs": [
        {
          "output_type": "error",
          "ename": "SyntaxError",
          "evalue": "ignored",
          "traceback": [
            "\u001b[0;36m  File \u001b[0;32m\"<ipython-input-35-d2a3e9f80f8c>\"\u001b[0;36m, line \u001b[0;32m1\u001b[0m\n\u001b[0;31m    def 123a():\u001b[0m\n\u001b[0m          ^\u001b[0m\n\u001b[0;31mSyntaxError\u001b[0m\u001b[0;31m:\u001b[0m invalid decimal literal\n"
          ]
        }
      ]
    },
    {
      "cell_type": "code",
      "source": [
        "'''\n",
        "Question:\n",
        "'''"
      ],
      "metadata": {
        "colab": {
          "base_uri": "https://localhost:8080/",
          "height": 36
        },
        "id": "_d1D8NCKEHjI",
        "outputId": "35ed0c64-1bdd-4058-f803-4be9ba3c06a9"
      },
      "execution_count": 38,
      "outputs": [
        {
          "output_type": "execute_result",
          "data": {
            "text/plain": [
              "'\\nQuestion:\\n'"
            ],
            "application/vnd.google.colaboratory.intrinsic+json": {
              "type": "string"
            }
          },
          "metadata": {},
          "execution_count": 38
        }
      ]
    },
    {
      "cell_type": "code",
      "source": [
        "def add(a,b):\n",
        "  res = a+b\n",
        "  print(res)"
      ],
      "metadata": {
        "id": "EjN_NiG6EQ5R"
      },
      "execution_count": 39,
      "outputs": []
    },
    {
      "cell_type": "code",
      "source": [
        "add(3,4)"
      ],
      "metadata": {
        "colab": {
          "base_uri": "https://localhost:8080/"
        },
        "id": "NSIVSqcDEY9T",
        "outputId": "694c84fa-afc3-40e9-92ec-5d2d88e64d12"
      },
      "execution_count": 40,
      "outputs": [
        {
          "output_type": "stream",
          "name": "stdout",
          "text": [
            "7\n"
          ]
        }
      ]
    },
    {
      "cell_type": "code",
      "source": [
        "add(\"hi\", \"yo\")"
      ],
      "metadata": {
        "colab": {
          "base_uri": "https://localhost:8080/"
        },
        "id": "W131FfQsEezH",
        "outputId": "f9ffd5c0-028f-459c-b243-12d719ebe695"
      },
      "execution_count": 41,
      "outputs": [
        {
          "output_type": "stream",
          "name": "stdout",
          "text": [
            "hiyo\n"
          ]
        }
      ]
    },
    {
      "cell_type": "code",
      "source": [
        "add(4,\"a\")"
      ],
      "metadata": {
        "colab": {
          "base_uri": "https://localhost:8080/",
          "height": 257
        },
        "id": "unHGtzk8EpYg",
        "outputId": "ba6aa901-d691-4288-8fc1-d5da51571a8f"
      },
      "execution_count": 42,
      "outputs": [
        {
          "output_type": "error",
          "ename": "TypeError",
          "evalue": "ignored",
          "traceback": [
            "\u001b[0;31m---------------------------------------------------------------------------\u001b[0m",
            "\u001b[0;31mTypeError\u001b[0m                                 Traceback (most recent call last)",
            "\u001b[0;32m<ipython-input-42-1e1479bffe4e>\u001b[0m in \u001b[0;36m<cell line: 1>\u001b[0;34m()\u001b[0m\n\u001b[0;32m----> 1\u001b[0;31m \u001b[0madd\u001b[0m\u001b[0;34m(\u001b[0m\u001b[0;36m4\u001b[0m\u001b[0;34m,\u001b[0m\u001b[0;34m\"a\"\u001b[0m\u001b[0;34m)\u001b[0m\u001b[0;34m\u001b[0m\u001b[0;34m\u001b[0m\u001b[0m\n\u001b[0m",
            "\u001b[0;32m<ipython-input-39-8f6b37baafd2>\u001b[0m in \u001b[0;36madd\u001b[0;34m(a, b)\u001b[0m\n\u001b[1;32m      1\u001b[0m \u001b[0;32mdef\u001b[0m \u001b[0madd\u001b[0m\u001b[0;34m(\u001b[0m\u001b[0ma\u001b[0m\u001b[0;34m,\u001b[0m\u001b[0mb\u001b[0m\u001b[0;34m)\u001b[0m\u001b[0;34m:\u001b[0m\u001b[0;34m\u001b[0m\u001b[0;34m\u001b[0m\u001b[0m\n\u001b[0;32m----> 2\u001b[0;31m   \u001b[0mres\u001b[0m \u001b[0;34m=\u001b[0m \u001b[0ma\u001b[0m\u001b[0;34m+\u001b[0m\u001b[0mb\u001b[0m\u001b[0;34m\u001b[0m\u001b[0;34m\u001b[0m\u001b[0m\n\u001b[0m\u001b[1;32m      3\u001b[0m   \u001b[0mprint\u001b[0m\u001b[0;34m(\u001b[0m\u001b[0mres\u001b[0m\u001b[0;34m)\u001b[0m\u001b[0;34m\u001b[0m\u001b[0;34m\u001b[0m\u001b[0m\n",
            "\u001b[0;31mTypeError\u001b[0m: unsupported operand type(s) for +: 'int' and 'str'"
          ]
        }
      ]
    },
    {
      "cell_type": "code",
      "source": [
        "def add(a,b):\n",
        "\n",
        "  '''\n",
        "  Arguments:\n",
        "  a: int or str\n",
        "  b: int or str\n",
        "\n",
        "  Note: please do not enter diff data types in one function call\n",
        "\n",
        "  output:\n",
        "  str+str --> concatenation\n",
        "  int+int --> addition\n",
        "\n",
        "  '''\n",
        "\n",
        "  res = a+b\n",
        "  print(res)"
      ],
      "metadata": {
        "id": "k4mRvS2dE_c_"
      },
      "execution_count": 45,
      "outputs": []
    },
    {
      "cell_type": "code",
      "source": [
        "help(add)"
      ],
      "metadata": {
        "colab": {
          "base_uri": "https://localhost:8080/"
        },
        "id": "c1mzdQHQFps2",
        "outputId": "9c4aeb84-9886-430d-9f3c-da7e9dbe2fd4"
      },
      "execution_count": 46,
      "outputs": [
        {
          "output_type": "stream",
          "name": "stdout",
          "text": [
            "Help on function add in module __main__:\n",
            "\n",
            "add(a, b)\n",
            "    Arguments:\n",
            "    a: int or str\n",
            "    b: int or str\n",
            "    \n",
            "    Note: please do not enter diff data types in one function call\n",
            "    \n",
            "    output:\n",
            "    str+str --> concatenation\n",
            "    int+int --> addition\n",
            "\n"
          ]
        }
      ]
    },
    {
      "cell_type": "code",
      "source": [
        "add(3,4)"
      ],
      "metadata": {
        "colab": {
          "base_uri": "https://localhost:8080/"
        },
        "id": "9_-I5L4VF8oI",
        "outputId": "24ea371e-6e8f-4999-b98f-94c5514a37aa"
      },
      "execution_count": 47,
      "outputs": [
        {
          "output_type": "stream",
          "name": "stdout",
          "text": [
            "7\n"
          ]
        }
      ]
    },
    {
      "cell_type": "code",
      "source": [
        "def maintain(x,y,z):\n",
        "  print(x,y)\n",
        "  print(y,z)"
      ],
      "metadata": {
        "id": "7ZLNdRfLGRKT"
      },
      "execution_count": 48,
      "outputs": []
    },
    {
      "cell_type": "code",
      "source": [
        "maintain(3,6,1)"
      ],
      "metadata": {
        "colab": {
          "base_uri": "https://localhost:8080/"
        },
        "id": "aFp3JC5cGr79",
        "outputId": "f048dafd-107d-4b18-d51c-3451ec7d6a68"
      },
      "execution_count": 49,
      "outputs": [
        {
          "output_type": "stream",
          "name": "stdout",
          "text": [
            "3 6\n",
            "6 1\n"
          ]
        }
      ]
    },
    {
      "cell_type": "code",
      "source": [
        "#print vs return"
      ],
      "metadata": {
        "id": "UPB2_dB0GtZ6"
      },
      "execution_count": null,
      "outputs": []
    },
    {
      "cell_type": "code",
      "source": [
        "def accept_money(amount):\n",
        "  print(2*amount)"
      ],
      "metadata": {
        "id": "5qNwrDyHK6_6"
      },
      "execution_count": 50,
      "outputs": []
    },
    {
      "cell_type": "code",
      "source": [
        "accept_money(100)"
      ],
      "metadata": {
        "colab": {
          "base_uri": "https://localhost:8080/"
        },
        "id": "e_InJCGnLBi6",
        "outputId": "ebd56c33-0a1c-4e15-8900-23f38392bb2a"
      },
      "execution_count": 51,
      "outputs": [
        {
          "output_type": "stream",
          "name": "stdout",
          "text": [
            "200\n"
          ]
        }
      ]
    },
    {
      "cell_type": "code",
      "source": [
        "wallet = accept_money(100)"
      ],
      "metadata": {
        "colab": {
          "base_uri": "https://localhost:8080/"
        },
        "id": "cryGXkQ7LGL6",
        "outputId": "2bcb2d75-ba5a-4ce6-8353-22d6094ea59c"
      },
      "execution_count": 52,
      "outputs": [
        {
          "output_type": "stream",
          "name": "stdout",
          "text": [
            "200\n"
          ]
        }
      ]
    },
    {
      "cell_type": "code",
      "source": [
        "print(wallet)"
      ],
      "metadata": {
        "colab": {
          "base_uri": "https://localhost:8080/"
        },
        "id": "DqzS4DFILS_W",
        "outputId": "21f262f5-0cc5-4508-c625-86ef204aa181"
      },
      "execution_count": 53,
      "outputs": [
        {
          "output_type": "stream",
          "name": "stdout",
          "text": [
            "None\n"
          ]
        }
      ]
    },
    {
      "cell_type": "code",
      "source": [
        "def accept_money2(amount):\n",
        "  return 2*amount"
      ],
      "metadata": {
        "id": "gkVQqjDELZgI"
      },
      "execution_count": 63,
      "outputs": []
    },
    {
      "cell_type": "code",
      "source": [
        "wallet = accept_money2(100)"
      ],
      "metadata": {
        "id": "yvXv2z7nL2cu"
      },
      "execution_count": 64,
      "outputs": []
    },
    {
      "cell_type": "code",
      "source": [
        "print(wallet)"
      ],
      "metadata": {
        "colab": {
          "base_uri": "https://localhost:8080/"
        },
        "id": "Xx4rZCwkL9ej",
        "outputId": "9bb1dcc0-b1bd-40bb-819c-a0b1ffccf36e"
      },
      "execution_count": 65,
      "outputs": [
        {
          "output_type": "stream",
          "name": "stdout",
          "text": [
            "104\n"
          ]
        }
      ]
    },
    {
      "cell_type": "code",
      "source": [
        "'''\n",
        "Question: What will be the value of b after the code is completed\n",
        "'''"
      ],
      "metadata": {
        "id": "Y4bpDbFQL_ha"
      },
      "execution_count": null,
      "outputs": []
    },
    {
      "cell_type": "code",
      "source": [
        "def show(a):\n",
        "  print(2*a)\n",
        "  return 1"
      ],
      "metadata": {
        "id": "xPs8z362NVtW"
      },
      "execution_count": 70,
      "outputs": []
    },
    {
      "cell_type": "code",
      "source": [
        "b = show(5)"
      ],
      "metadata": {
        "colab": {
          "base_uri": "https://localhost:8080/"
        },
        "id": "d6UkCKayNXaT",
        "outputId": "1b0ad566-96f0-4e4b-82cf-e64b8d14f530"
      },
      "execution_count": 71,
      "outputs": [
        {
          "output_type": "stream",
          "name": "stdout",
          "text": [
            "10\n"
          ]
        }
      ]
    },
    {
      "cell_type": "code",
      "source": [
        "print(b)"
      ],
      "metadata": {
        "colab": {
          "base_uri": "https://localhost:8080/"
        },
        "id": "uwriC_pnNZzl",
        "outputId": "a57d6237-5b33-4275-d373-1bd725ed75e9"
      },
      "execution_count": 72,
      "outputs": [
        {
          "output_type": "stream",
          "name": "stdout",
          "text": [
            "1\n"
          ]
        }
      ]
    },
    {
      "cell_type": "code",
      "source": [
        "def sample():\n",
        "  print(\"Hi\")\n",
        "  return 1\n",
        "  print(\"Bye\")\n",
        "  print(\"Yo\")\n",
        "\n",
        "#return --> returns back the value to where it was called from and it ends the function at that line"
      ],
      "metadata": {
        "id": "mun7n9M7NmCO"
      },
      "execution_count": 73,
      "outputs": []
    },
    {
      "cell_type": "code",
      "source": [
        "ans = sample()"
      ],
      "metadata": {
        "colab": {
          "base_uri": "https://localhost:8080/"
        },
        "id": "YuH2Vrd0OPz1",
        "outputId": "fc3e30cf-9e85-44bc-c2bb-1c1ad5c9b137"
      },
      "execution_count": 74,
      "outputs": [
        {
          "output_type": "stream",
          "name": "stdout",
          "text": [
            "Hi\n"
          ]
        }
      ]
    },
    {
      "cell_type": "code",
      "source": [
        "print(ans)"
      ],
      "metadata": {
        "colab": {
          "base_uri": "https://localhost:8080/"
        },
        "id": "vpbTL5EcOOuC",
        "outputId": "f58743d1-9767-4c7e-f526-caa40f7061f5"
      },
      "execution_count": 75,
      "outputs": [
        {
          "output_type": "stream",
          "name": "stdout",
          "text": [
            "1\n"
          ]
        }
      ]
    },
    {
      "cell_type": "code",
      "source": [
        "# type(), print(), input() --> predefined/system defined function"
      ],
      "metadata": {
        "id": "r9sHHcjnOVCk"
      },
      "execution_count": 76,
      "outputs": []
    },
    {
      "cell_type": "code",
      "source": [
        "a = max(2,5,6,3) #predefined function"
      ],
      "metadata": {
        "id": "zpZqo0CkOk3b"
      },
      "execution_count": 79,
      "outputs": []
    },
    {
      "cell_type": "code",
      "source": [
        "print(a)"
      ],
      "metadata": {
        "colab": {
          "base_uri": "https://localhost:8080/"
        },
        "id": "K9olM5lNOuS4",
        "outputId": "efd4de62-4c3d-4d76-a885-4e9f2a0af91c"
      },
      "execution_count": 80,
      "outputs": [
        {
          "output_type": "stream",
          "name": "stdout",
          "text": [
            "6\n"
          ]
        }
      ]
    },
    {
      "cell_type": "code",
      "source": [
        "a = min(5,7,1,3,10)\n",
        "print(a)"
      ],
      "metadata": {
        "colab": {
          "base_uri": "https://localhost:8080/"
        },
        "id": "ETec6kp-Ov7g",
        "outputId": "fba8650b-073e-4dd0-87d4-c1cfb153aa13"
      },
      "execution_count": 81,
      "outputs": [
        {
          "output_type": "stream",
          "name": "stdout",
          "text": [
            "1\n"
          ]
        }
      ]
    },
    {
      "cell_type": "code",
      "source": [
        "#key-worded arguments"
      ],
      "metadata": {
        "id": "Tq4BFk6OO2Mf"
      },
      "execution_count": 82,
      "outputs": []
    },
    {
      "cell_type": "code",
      "source": [
        "def car_specifications(color, brand, price):\n",
        "  print(\"color is\", color)\n",
        "  print(\"brand is\", brand)\n",
        "  print(\"price is\", price)"
      ],
      "metadata": {
        "id": "sFLfzVElPC2c"
      },
      "execution_count": 83,
      "outputs": []
    },
    {
      "cell_type": "code",
      "source": [
        "car_specifications(brand = \"Tesla\", price = 300, color = \"Red\")"
      ],
      "metadata": {
        "colab": {
          "base_uri": "https://localhost:8080/"
        },
        "id": "JEvfHFkHPXwJ",
        "outputId": "7a1d335c-e076-43a3-bcf0-5baef07344ac"
      },
      "execution_count": 84,
      "outputs": [
        {
          "output_type": "stream",
          "name": "stdout",
          "text": [
            "color is Red\n",
            "brand is Tesla\n",
            "price is 300\n"
          ]
        }
      ]
    },
    {
      "cell_type": "code",
      "source": [
        "car_specifications( price = 300, brand = \"Tesla\",  color = \"Red\")"
      ],
      "metadata": {
        "colab": {
          "base_uri": "https://localhost:8080/"
        },
        "id": "G1rR3wccPhhL",
        "outputId": "81d85cd3-c545-4192-9672-4cd43ed0793e"
      },
      "execution_count": 85,
      "outputs": [
        {
          "output_type": "stream",
          "name": "stdout",
          "text": [
            "color is Red\n",
            "brand is Tesla\n",
            "price is 300\n"
          ]
        }
      ]
    },
    {
      "cell_type": "code",
      "source": [
        "def solve(a,b,c,d):\n",
        "  print(\"a =\",a)\n",
        "  print(\"b =\",b)\n",
        "  print(\"c =\",c)\n",
        "  print(\"d =\",d)"
      ],
      "metadata": {
        "id": "riAEYWwGQEUL"
      },
      "execution_count": 88,
      "outputs": []
    },
    {
      "cell_type": "code",
      "source": [
        "solve(1,6,3,5)"
      ],
      "metadata": {
        "colab": {
          "base_uri": "https://localhost:8080/"
        },
        "id": "Y5jVxHOoQQWq",
        "outputId": "494bce87-83d8-4970-fb2a-23e733df8a4e"
      },
      "execution_count": 89,
      "outputs": [
        {
          "output_type": "stream",
          "name": "stdout",
          "text": [
            "a = 1\n",
            "b = 6\n",
            "c = 3\n",
            "d = 5\n"
          ]
        }
      ]
    },
    {
      "cell_type": "code",
      "source": [
        "solve(2,3,4)"
      ],
      "metadata": {
        "colab": {
          "base_uri": "https://localhost:8080/",
          "height": 168
        },
        "id": "PO4L9-07Qd9l",
        "outputId": "6f7b75aa-2747-47b0-bb20-066ddeb5601c"
      },
      "execution_count": 90,
      "outputs": [
        {
          "output_type": "error",
          "ename": "TypeError",
          "evalue": "ignored",
          "traceback": [
            "\u001b[0;31m---------------------------------------------------------------------------\u001b[0m",
            "\u001b[0;31mTypeError\u001b[0m                                 Traceback (most recent call last)",
            "\u001b[0;32m<ipython-input-90-4cf1bf4e04d1>\u001b[0m in \u001b[0;36m<cell line: 1>\u001b[0;34m()\u001b[0m\n\u001b[0;32m----> 1\u001b[0;31m \u001b[0msolve\u001b[0m\u001b[0;34m(\u001b[0m\u001b[0;36m2\u001b[0m\u001b[0;34m,\u001b[0m\u001b[0;36m3\u001b[0m\u001b[0;34m,\u001b[0m\u001b[0;36m4\u001b[0m\u001b[0;34m)\u001b[0m\u001b[0;34m\u001b[0m\u001b[0;34m\u001b[0m\u001b[0m\n\u001b[0m",
            "\u001b[0;31mTypeError\u001b[0m: solve() missing 1 required positional argument: 'd'"
          ]
        }
      ]
    },
    {
      "cell_type": "code",
      "source": [
        "solve(5,7,4,3,6,1)"
      ],
      "metadata": {
        "colab": {
          "base_uri": "https://localhost:8080/",
          "height": 168
        },
        "id": "x0S88cAyQhqL",
        "outputId": "7eeac2d1-0261-45de-8ae4-d603cec661ff"
      },
      "execution_count": 91,
      "outputs": [
        {
          "output_type": "error",
          "ename": "TypeError",
          "evalue": "ignored",
          "traceback": [
            "\u001b[0;31m---------------------------------------------------------------------------\u001b[0m",
            "\u001b[0;31mTypeError\u001b[0m                                 Traceback (most recent call last)",
            "\u001b[0;32m<ipython-input-91-50dec2eb013f>\u001b[0m in \u001b[0;36m<cell line: 1>\u001b[0;34m()\u001b[0m\n\u001b[0;32m----> 1\u001b[0;31m \u001b[0msolve\u001b[0m\u001b[0;34m(\u001b[0m\u001b[0;36m5\u001b[0m\u001b[0;34m,\u001b[0m\u001b[0;36m7\u001b[0m\u001b[0;34m,\u001b[0m\u001b[0;36m4\u001b[0m\u001b[0;34m,\u001b[0m\u001b[0;36m3\u001b[0m\u001b[0;34m,\u001b[0m\u001b[0;36m6\u001b[0m\u001b[0;34m,\u001b[0m\u001b[0;36m1\u001b[0m\u001b[0;34m)\u001b[0m\u001b[0;34m\u001b[0m\u001b[0;34m\u001b[0m\u001b[0m\n\u001b[0m",
            "\u001b[0;31mTypeError\u001b[0m: solve() takes 4 positional arguments but 6 were given"
          ]
        }
      ]
    },
    {
      "cell_type": "code",
      "source": [
        "solve(b = 2, c= 1, d = 6, a = 4)"
      ],
      "metadata": {
        "colab": {
          "base_uri": "https://localhost:8080/"
        },
        "id": "nOQc_NaSQkzu",
        "outputId": "af2e152e-770e-45b4-de42-225efda21412"
      },
      "execution_count": 92,
      "outputs": [
        {
          "output_type": "stream",
          "name": "stdout",
          "text": [
            "a = 4\n",
            "b = 2\n",
            "c = 1\n",
            "d = 6\n"
          ]
        }
      ]
    },
    {
      "cell_type": "code",
      "source": [
        "#usecase --> in Python Libraries module"
      ],
      "metadata": {
        "id": "lxVcQ9H6Qq9J"
      },
      "execution_count": 93,
      "outputs": []
    },
    {
      "cell_type": "code",
      "source": [
        "solve(a = 2, c= 5, b= 3, a= 5, d=2)"
      ],
      "metadata": {
        "colab": {
          "base_uri": "https://localhost:8080/",
          "height": 132
        },
        "id": "NK5lMpABQ1jf",
        "outputId": "4ab46cd4-f0a3-4895-dedf-79f36eef1bbb"
      },
      "execution_count": 94,
      "outputs": [
        {
          "output_type": "error",
          "ename": "SyntaxError",
          "evalue": "ignored",
          "traceback": [
            "\u001b[0;36m  File \u001b[0;32m\"<ipython-input-94-3f4f1575454a>\"\u001b[0;36m, line \u001b[0;32m1\u001b[0m\n\u001b[0;31m    solve(a = 2, c= 5, b= 3, a= 5, d=2)\u001b[0m\n\u001b[0m                             ^\u001b[0m\n\u001b[0;31mSyntaxError\u001b[0m\u001b[0;31m:\u001b[0m keyword argument repeated: a\n"
          ]
        }
      ]
    },
    {
      "cell_type": "code",
      "source": [
        "solve(a = 2, c= 5, d=2)"
      ],
      "metadata": {
        "colab": {
          "base_uri": "https://localhost:8080/",
          "height": 168
        },
        "id": "y2H4DWyWRChD",
        "outputId": "febe7f03-47d6-482e-a9c9-b54b306369c0"
      },
      "execution_count": 95,
      "outputs": [
        {
          "output_type": "error",
          "ename": "TypeError",
          "evalue": "ignored",
          "traceback": [
            "\u001b[0;31m---------------------------------------------------------------------------\u001b[0m",
            "\u001b[0;31mTypeError\u001b[0m                                 Traceback (most recent call last)",
            "\u001b[0;32m<ipython-input-95-93953b30ec43>\u001b[0m in \u001b[0;36m<cell line: 1>\u001b[0;34m()\u001b[0m\n\u001b[0;32m----> 1\u001b[0;31m \u001b[0msolve\u001b[0m\u001b[0;34m(\u001b[0m\u001b[0ma\u001b[0m \u001b[0;34m=\u001b[0m \u001b[0;36m2\u001b[0m\u001b[0;34m,\u001b[0m \u001b[0mc\u001b[0m\u001b[0;34m=\u001b[0m \u001b[0;36m5\u001b[0m\u001b[0;34m,\u001b[0m \u001b[0md\u001b[0m\u001b[0;34m=\u001b[0m\u001b[0;36m2\u001b[0m\u001b[0;34m)\u001b[0m\u001b[0;34m\u001b[0m\u001b[0;34m\u001b[0m\u001b[0m\n\u001b[0m",
            "\u001b[0;31mTypeError\u001b[0m: solve() missing 1 required positional argument: 'b'"
          ]
        }
      ]
    },
    {
      "cell_type": "code",
      "source": [
        "solve(a = 2, c= 5, b= 3, f=2)"
      ],
      "metadata": {
        "colab": {
          "base_uri": "https://localhost:8080/",
          "height": 168
        },
        "id": "mDWudYWcRLiw",
        "outputId": "399b2572-eb56-4f87-e492-d5f5546976b1"
      },
      "execution_count": 96,
      "outputs": [
        {
          "output_type": "error",
          "ename": "TypeError",
          "evalue": "ignored",
          "traceback": [
            "\u001b[0;31m---------------------------------------------------------------------------\u001b[0m",
            "\u001b[0;31mTypeError\u001b[0m                                 Traceback (most recent call last)",
            "\u001b[0;32m<ipython-input-96-d208de0c387e>\u001b[0m in \u001b[0;36m<cell line: 1>\u001b[0;34m()\u001b[0m\n\u001b[0;32m----> 1\u001b[0;31m \u001b[0msolve\u001b[0m\u001b[0;34m(\u001b[0m\u001b[0ma\u001b[0m \u001b[0;34m=\u001b[0m \u001b[0;36m2\u001b[0m\u001b[0;34m,\u001b[0m \u001b[0mc\u001b[0m\u001b[0;34m=\u001b[0m \u001b[0;36m5\u001b[0m\u001b[0;34m,\u001b[0m \u001b[0mb\u001b[0m\u001b[0;34m=\u001b[0m \u001b[0;36m3\u001b[0m\u001b[0;34m,\u001b[0m \u001b[0mf\u001b[0m\u001b[0;34m=\u001b[0m\u001b[0;36m2\u001b[0m\u001b[0;34m)\u001b[0m\u001b[0;34m\u001b[0m\u001b[0;34m\u001b[0m\u001b[0m\n\u001b[0m",
            "\u001b[0;31mTypeError\u001b[0m: solve() got an unexpected keyword argument 'f'"
          ]
        }
      ]
    },
    {
      "cell_type": "code",
      "source": [
        "#mixture"
      ],
      "metadata": {
        "id": "GS3CeYBNRbbn"
      },
      "execution_count": 97,
      "outputs": []
    },
    {
      "cell_type": "code",
      "source": [],
      "metadata": {
        "id": "sjYOf3gTRpF3"
      },
      "execution_count": null,
      "outputs": []
    }
  ]
}
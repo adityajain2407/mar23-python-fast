{
  "nbformat": 4,
  "nbformat_minor": 0,
  "metadata": {
    "colab": {
      "provenance": [],
      "authorship_tag": "ABX9TyMKLAUcTp9b1FlM8qp9hoXx",
      "include_colab_link": true
    },
    "kernelspec": {
      "name": "python3",
      "display_name": "Python 3"
    },
    "language_info": {
      "name": "python"
    }
  },
  "cells": [
    {
      "cell_type": "markdown",
      "metadata": {
        "id": "view-in-github",
        "colab_type": "text"
      },
      "source": [
        "<a href=\"https://colab.research.google.com/github/adityajain2407/mar23-python-fast/blob/main/may23_control_statements.ipynb\" target=\"_parent\"><img src=\"https://colab.research.google.com/assets/colab-badge.svg\" alt=\"Open In Colab\"/></a>"
      ]
    },
    {
      "cell_type": "code",
      "execution_count": 2,
      "metadata": {
        "colab": {
          "base_uri": "https://localhost:8080/"
        },
        "id": "AtUPxGrSiY4y",
        "outputId": "dccc384d-f751-4716-924f-25277acd821c"
      },
      "outputs": [
        {
          "output_type": "execute_result",
          "data": {
            "text/plain": [
              "True"
            ]
          },
          "metadata": {},
          "execution_count": 2
        }
      ],
      "source": [
        "54 <= 67 #conditional statement"
      ]
    },
    {
      "cell_type": "code",
      "source": [
        "65 >= 30"
      ],
      "metadata": {
        "colab": {
          "base_uri": "https://localhost:8080/"
        },
        "id": "aYBrGFnPjCH9",
        "outputId": "d3751f4f-7f45-4c5a-c697-54eb67e51b40"
      },
      "execution_count": 3,
      "outputs": [
        {
          "output_type": "execute_result",
          "data": {
            "text/plain": [
              "True"
            ]
          },
          "metadata": {},
          "execution_count": 3
        }
      ]
    },
    {
      "cell_type": "code",
      "source": [
        "(54 <= 67) and (65 >= 30)"
      ],
      "metadata": {
        "colab": {
          "base_uri": "https://localhost:8080/"
        },
        "id": "SHC2BCUJjIag",
        "outputId": "db92e604-b154-44f1-ff5d-a9a82c64306f"
      },
      "execution_count": 4,
      "outputs": [
        {
          "output_type": "execute_result",
          "data": {
            "text/plain": [
              "True"
            ]
          },
          "metadata": {},
          "execution_count": 4
        }
      ]
    },
    {
      "cell_type": "code",
      "source": [
        "(54 <= 67) and (65 < 30) and (7 > 5)"
      ],
      "metadata": {
        "colab": {
          "base_uri": "https://localhost:8080/"
        },
        "id": "6H9CkLfokHj3",
        "outputId": "25725176-b385-430e-bc82-621e34a844b2"
      },
      "execution_count": 5,
      "outputs": [
        {
          "output_type": "execute_result",
          "data": {
            "text/plain": [
              "False"
            ]
          },
          "metadata": {},
          "execution_count": 5
        }
      ]
    },
    {
      "cell_type": "code",
      "source": [
        "(54 <= 67) or (65 < 30) or (7 > 5)"
      ],
      "metadata": {
        "colab": {
          "base_uri": "https://localhost:8080/"
        },
        "id": "EfYNTse-kWGl",
        "outputId": "7d5fca41-0edc-423d-bae4-f12e069ff1d4"
      },
      "execution_count": 6,
      "outputs": [
        {
          "output_type": "execute_result",
          "data": {
            "text/plain": [
              "True"
            ]
          },
          "metadata": {},
          "execution_count": 6
        }
      ]
    },
    {
      "cell_type": "code",
      "source": [
        "(5 > 8) or (3 > 10)"
      ],
      "metadata": {
        "colab": {
          "base_uri": "https://localhost:8080/"
        },
        "id": "sKmgP3e4kdFg",
        "outputId": "5b417ad9-af6b-4fcd-b554-2abeebd136bc"
      },
      "execution_count": 7,
      "outputs": [
        {
          "output_type": "execute_result",
          "data": {
            "text/plain": [
              "False"
            ]
          },
          "metadata": {},
          "execution_count": 7
        }
      ]
    },
    {
      "cell_type": "code",
      "source": [
        "(5 > 8) or (3 < 10)"
      ],
      "metadata": {
        "colab": {
          "base_uri": "https://localhost:8080/"
        },
        "id": "hn1MyTGTkmdL",
        "outputId": "99eb0ee8-7a6e-4c3b-a92a-6549ef2116f5"
      },
      "execution_count": 8,
      "outputs": [
        {
          "output_type": "execute_result",
          "data": {
            "text/plain": [
              "True"
            ]
          },
          "metadata": {},
          "execution_count": 8
        }
      ]
    },
    {
      "cell_type": "code",
      "source": [
        "a = 10\n",
        "\n",
        "(a<2) or (a == 20) or (a>5)"
      ],
      "metadata": {
        "colab": {
          "base_uri": "https://localhost:8080/"
        },
        "id": "mjDvG3yakt0D",
        "outputId": "f2b2b58b-78fa-46a8-c2d1-7bfaa038a9f1"
      },
      "execution_count": 9,
      "outputs": [
        {
          "output_type": "execute_result",
          "data": {
            "text/plain": [
              "True"
            ]
          },
          "metadata": {},
          "execution_count": 9
        }
      ]
    },
    {
      "cell_type": "code",
      "source": [
        "a = 10\n",
        "\n",
        "(a<2) and (a == 20) and (a>5)"
      ],
      "metadata": {
        "colab": {
          "base_uri": "https://localhost:8080/"
        },
        "id": "GmYwwEj6k3I5",
        "outputId": "4af31458-3980-47b3-ee13-88cfa7b2d1a7"
      },
      "execution_count": 10,
      "outputs": [
        {
          "output_type": "execute_result",
          "data": {
            "text/plain": [
              "False"
            ]
          },
          "metadata": {},
          "execution_count": 10
        }
      ]
    },
    {
      "cell_type": "code",
      "source": [
        "a = 10\n",
        "\n",
        "(a<2) and (a == 10) and (a>5)"
      ],
      "metadata": {
        "colab": {
          "base_uri": "https://localhost:8080/"
        },
        "id": "qBiZ8TZ3k9b2",
        "outputId": "2ff35a28-d9e6-4091-9fee-14bb48a4cf66"
      },
      "execution_count": 11,
      "outputs": [
        {
          "output_type": "execute_result",
          "data": {
            "text/plain": [
              "False"
            ]
          },
          "metadata": {},
          "execution_count": 11
        }
      ]
    },
    {
      "cell_type": "code",
      "source": [
        "#not operator"
      ],
      "metadata": {
        "id": "IZlFaaA0lF3-"
      },
      "execution_count": 12,
      "outputs": []
    },
    {
      "cell_type": "code",
      "source": [
        "10 < 5"
      ],
      "metadata": {
        "colab": {
          "base_uri": "https://localhost:8080/"
        },
        "id": "5gUPb6qXlkGN",
        "outputId": "f10aa3c0-4ad9-490f-c92e-467c22295c96"
      },
      "execution_count": 13,
      "outputs": [
        {
          "output_type": "execute_result",
          "data": {
            "text/plain": [
              "False"
            ]
          },
          "metadata": {},
          "execution_count": 13
        }
      ]
    },
    {
      "cell_type": "code",
      "source": [
        "not(10 < 5)"
      ],
      "metadata": {
        "colab": {
          "base_uri": "https://localhost:8080/"
        },
        "id": "QHK9jQtWlo7K",
        "outputId": "cb23a7ef-c68d-4ebf-f986-f8a93b7ec507"
      },
      "execution_count": 14,
      "outputs": [
        {
          "output_type": "execute_result",
          "data": {
            "text/plain": [
              "True"
            ]
          },
          "metadata": {},
          "execution_count": 14
        }
      ]
    },
    {
      "cell_type": "code",
      "source": [
        "not(5 == 5)"
      ],
      "metadata": {
        "colab": {
          "base_uri": "https://localhost:8080/"
        },
        "id": "GFHm5vzIlssd",
        "outputId": "bef22011-fbe2-4be8-fa69-e5dfcd7afbad"
      },
      "execution_count": 15,
      "outputs": [
        {
          "output_type": "execute_result",
          "data": {
            "text/plain": [
              "False"
            ]
          },
          "metadata": {},
          "execution_count": 15
        }
      ]
    },
    {
      "cell_type": "code",
      "source": [
        "5 == 5"
      ],
      "metadata": {
        "colab": {
          "base_uri": "https://localhost:8080/"
        },
        "id": "ZlzrXebwlyyQ",
        "outputId": "25afaefd-6efa-4589-e43a-f3da4533de49"
      },
      "execution_count": 16,
      "outputs": [
        {
          "output_type": "execute_result",
          "data": {
            "text/plain": [
              "True"
            ]
          },
          "metadata": {},
          "execution_count": 16
        }
      ]
    },
    {
      "cell_type": "code",
      "source": [
        "a = 10\n",
        "not (a > 5 and a > 7)"
      ],
      "metadata": {
        "colab": {
          "base_uri": "https://localhost:8080/"
        },
        "id": "4H3UxjlYmAfY",
        "outputId": "ff5d3bd7-0a7f-4f09-9e88-e750323f61db"
      },
      "execution_count": 17,
      "outputs": [
        {
          "output_type": "execute_result",
          "data": {
            "text/plain": [
              "False"
            ]
          },
          "metadata": {},
          "execution_count": 17
        }
      ]
    },
    {
      "cell_type": "code",
      "source": [
        "not ( a < 5 or a > 7)"
      ],
      "metadata": {
        "colab": {
          "base_uri": "https://localhost:8080/"
        },
        "id": "Un7oSq_4mROo",
        "outputId": "d96168c6-18d9-455f-a99d-f27c01681bb6"
      },
      "execution_count": 18,
      "outputs": [
        {
          "output_type": "execute_result",
          "data": {
            "text/plain": [
              "False"
            ]
          },
          "metadata": {},
          "execution_count": 18
        }
      ]
    },
    {
      "cell_type": "code",
      "source": [
        "#control flow - using if-else statement"
      ],
      "metadata": {
        "id": "RzGePdNKmb7y"
      },
      "execution_count": 20,
      "outputs": []
    },
    {
      "cell_type": "code",
      "source": [
        "n = 5"
      ],
      "metadata": {
        "id": "XoFmJmC0mjo9"
      },
      "execution_count": 21,
      "outputs": []
    },
    {
      "cell_type": "code",
      "source": [
        "n%2 == 0"
      ],
      "metadata": {
        "colab": {
          "base_uri": "https://localhost:8080/"
        },
        "id": "g0_-vTdaoH1Q",
        "outputId": "73574381-d10b-4eb5-88f4-e16e58b69d5d"
      },
      "execution_count": 22,
      "outputs": [
        {
          "output_type": "execute_result",
          "data": {
            "text/plain": [
              "False"
            ]
          },
          "metadata": {},
          "execution_count": 22
        }
      ]
    },
    {
      "cell_type": "code",
      "source": [
        "n = 5\n",
        "\n",
        "if n%2 == 0:\n",
        "  print(\"Even\")\n",
        "else:\n",
        "  print(\"Odd\")"
      ],
      "metadata": {
        "colab": {
          "base_uri": "https://localhost:8080/"
        },
        "id": "ft9QC1LnoOfM",
        "outputId": "98075910-4721-481f-cc1b-9093ff755c7c"
      },
      "execution_count": 23,
      "outputs": [
        {
          "output_type": "stream",
          "name": "stdout",
          "text": [
            "Odd\n"
          ]
        }
      ]
    },
    {
      "cell_type": "code",
      "source": [
        "n = 8\n",
        "\n",
        "if n%2 == 0:\n",
        "  print(\"Even\")\n",
        "else:\n",
        "  print(\"Odd\")"
      ],
      "metadata": {
        "colab": {
          "base_uri": "https://localhost:8080/"
        },
        "id": "1HZ6r97NoaJw",
        "outputId": "a8e786d8-361c-4a42-dd24-d83f560c13a0"
      },
      "execution_count": 26,
      "outputs": [
        {
          "output_type": "stream",
          "name": "stdout",
          "text": [
            "Even\n"
          ]
        }
      ]
    },
    {
      "cell_type": "code",
      "source": [
        "#Take a number from the user as input, and check if it is even or odd - print accordingly"
      ],
      "metadata": {
        "id": "My_xE8AKoeEL"
      },
      "execution_count": 27,
      "outputs": []
    },
    {
      "cell_type": "code",
      "source": [
        "n = int(input())\n",
        "\n",
        "if n%2 == 0:\n",
        "  print(\"even\")\n",
        "else:\n",
        "  print(\"Odd\")"
      ],
      "metadata": {
        "colab": {
          "base_uri": "https://localhost:8080/"
        },
        "id": "DkB5HSuio6EB",
        "outputId": "fc7c4ba9-0436-4661-e3ca-32b06f0e4952"
      },
      "execution_count": 31,
      "outputs": [
        {
          "output_type": "stream",
          "name": "stdout",
          "text": [
            "7\n",
            "Odd\n"
          ]
        }
      ]
    },
    {
      "cell_type": "code",
      "source": [
        "if 56 > 60:\n",
        "  print(\"1\")\n",
        "  print(\"2\")\n",
        "else:\n",
        "  print(\"3\")"
      ],
      "metadata": {
        "colab": {
          "base_uri": "https://localhost:8080/"
        },
        "id": "Exepe8IopAlj",
        "outputId": "a537f021-34fc-4e40-fa77-051acfe9081c"
      },
      "execution_count": 32,
      "outputs": [
        {
          "output_type": "stream",
          "name": "stdout",
          "text": [
            "3\n"
          ]
        }
      ]
    },
    {
      "cell_type": "code",
      "source": [
        "if 56 < 60:\n",
        "  print(\"1\")\n",
        "  print(\"2\")\n",
        "else:\n",
        "  print(\"3\")"
      ],
      "metadata": {
        "colab": {
          "base_uri": "https://localhost:8080/"
        },
        "id": "237lsjiSpoJH",
        "outputId": "c1b7da34-1e29-4d1a-b7ba-827cf95c2667"
      },
      "execution_count": 33,
      "outputs": [
        {
          "output_type": "stream",
          "name": "stdout",
          "text": [
            "1\n",
            "2\n"
          ]
        }
      ]
    },
    {
      "cell_type": "code",
      "source": [
        "print(\"0\")\n",
        "\n",
        "if 56 < 60:\n",
        "  print(\"1\")\n",
        "  print(\"2\")\n",
        "else:\n",
        "  print(\"3\")\n",
        "\n",
        "print(\"4\")"
      ],
      "metadata": {
        "colab": {
          "base_uri": "https://localhost:8080/"
        },
        "id": "6cGYQpWMp5tp",
        "outputId": "19468096-c2a3-425c-a4c8-0552c472618a"
      },
      "execution_count": 34,
      "outputs": [
        {
          "output_type": "stream",
          "name": "stdout",
          "text": [
            "0\n",
            "1\n",
            "2\n",
            "4\n"
          ]
        }
      ]
    },
    {
      "cell_type": "code",
      "source": [
        "print(\"0\")\n",
        "\n",
        "if 56 >= 60:\n",
        "  print(\"1\")\n",
        "  print(\"2\")\n",
        "else:\n",
        "  print(\"3\")\n",
        "\n",
        "print(\"4\")"
      ],
      "metadata": {
        "colab": {
          "base_uri": "https://localhost:8080/"
        },
        "id": "YAALD0alqkFk",
        "outputId": "0fcbcf78-0ddc-415c-e5d3-792c6244fa31"
      },
      "execution_count": 35,
      "outputs": [
        {
          "output_type": "stream",
          "name": "stdout",
          "text": [
            "0\n",
            "3\n",
            "4\n"
          ]
        }
      ]
    },
    {
      "cell_type": "code",
      "source": [
        "#theory\n",
        "\n",
        "\n",
        "#Run these always - because it is NOT part of the if-else block\n",
        "\n",
        "if condition:\n",
        "  #run this block of code ONLY when the condition is True\n",
        "else:\n",
        "  #run this block of code ONLY when the condition is False\n",
        "\n",
        "#Run these always - because it is NOT part of the if-else block"
      ],
      "metadata": {
        "id": "rL8GHrY_q8UZ"
      },
      "execution_count": null,
      "outputs": []
    },
    {
      "cell_type": "code",
      "source": [
        "#quiz-1\n",
        "\n",
        "a = 4\n",
        "result = a**2\n",
        "\n",
        "if result > 25:\n",
        "  print(\"A\")\n",
        "else:\n",
        "  print(\"B\")\n",
        "\n",
        "print(\"C\")"
      ],
      "metadata": {
        "colab": {
          "base_uri": "https://localhost:8080/"
        },
        "id": "qCicV7CcrZNX",
        "outputId": "e5f8334b-8cb8-4eba-e844-e7384750e363"
      },
      "execution_count": 36,
      "outputs": [
        {
          "output_type": "stream",
          "name": "stdout",
          "text": [
            "B\n",
            "C\n"
          ]
        }
      ]
    },
    {
      "cell_type": "code",
      "source": [
        "a = 6\n",
        "result = a**2\n",
        "\n",
        "if result > 25:\n",
        "  print(\"A\")\n",
        "else:\n",
        "  print(\"B\")\n",
        "\n",
        "print(\"C\")"
      ],
      "metadata": {
        "colab": {
          "base_uri": "https://localhost:8080/"
        },
        "id": "eLmRYdnorr8C",
        "outputId": "c2750baf-cea0-4d25-8822-2137e304c0ba"
      },
      "execution_count": 37,
      "outputs": [
        {
          "output_type": "stream",
          "name": "stdout",
          "text": [
            "A\n",
            "C\n"
          ]
        }
      ]
    },
    {
      "cell_type": "code",
      "source": [
        "# if can exist without else"
      ],
      "metadata": {
        "id": "5b2A4_6er6VI"
      },
      "execution_count": 38,
      "outputs": []
    },
    {
      "cell_type": "code",
      "source": [
        "a = 10\n",
        "if a == 10:\n",
        "  print(\"10\")\n",
        "\n",
        "print(\"A\")"
      ],
      "metadata": {
        "colab": {
          "base_uri": "https://localhost:8080/"
        },
        "id": "ZD9tl7wKsZaw",
        "outputId": "9d692a90-c098-491c-96e9-58f9eaf1ba33"
      },
      "execution_count": 39,
      "outputs": [
        {
          "output_type": "stream",
          "name": "stdout",
          "text": [
            "10\n",
            "A\n"
          ]
        }
      ]
    },
    {
      "cell_type": "code",
      "source": [
        "a = 5\n",
        "if a == 10:\n",
        "  print(\"10\")\n",
        "\n",
        "print(\"A\")"
      ],
      "metadata": {
        "colab": {
          "base_uri": "https://localhost:8080/"
        },
        "id": "fAO_yVIBsiTC",
        "outputId": "03874138-c7dd-4894-fa1f-546044a7138d"
      },
      "execution_count": 40,
      "outputs": [
        {
          "output_type": "stream",
          "name": "stdout",
          "text": [
            "A\n"
          ]
        }
      ]
    },
    {
      "cell_type": "code",
      "source": [
        "#else cannot exist without if"
      ],
      "metadata": {
        "id": "lVcIpwrXslYd"
      },
      "execution_count": null,
      "outputs": []
    },
    {
      "cell_type": "code",
      "source": [
        "else:\n",
        "  print(\"1\")"
      ],
      "metadata": {
        "colab": {
          "base_uri": "https://localhost:8080/",
          "height": 132
        },
        "id": "_Cqtzxl-sqic",
        "outputId": "a345cf8c-adaf-4ff7-ac06-e073748f8301"
      },
      "execution_count": 41,
      "outputs": [
        {
          "output_type": "error",
          "ename": "SyntaxError",
          "evalue": "ignored",
          "traceback": [
            "\u001b[0;36m  File \u001b[0;32m\"<ipython-input-41-fbf8d405adbd>\"\u001b[0;36m, line \u001b[0;32m1\u001b[0m\n\u001b[0;31m    else:\u001b[0m\n\u001b[0m    ^\u001b[0m\n\u001b[0;31mSyntaxError\u001b[0m\u001b[0;31m:\u001b[0m invalid syntax\n"
          ]
        }
      ]
    },
    {
      "cell_type": "code",
      "source": [
        "'''\n",
        "Write a program which takes a student's marks as input.\n",
        "Print \"Pass\" if marks are more than 35\n",
        "Print \"you can do better\" otherwise\n",
        "'''"
      ],
      "metadata": {
        "id": "3XhEqJ7Ussih"
      },
      "execution_count": null,
      "outputs": []
    },
    {
      "cell_type": "code",
      "source": [
        "marks = int(input())"
      ],
      "metadata": {
        "colab": {
          "base_uri": "https://localhost:8080/"
        },
        "id": "i-pLTTZGtQOj",
        "outputId": "db4efbcc-b7ea-4ae6-ed90-019251eecc68"
      },
      "execution_count": 42,
      "outputs": [
        {
          "name": "stdout",
          "output_type": "stream",
          "text": [
            "40\n"
          ]
        }
      ]
    },
    {
      "cell_type": "code",
      "source": [
        "if marks > 35:\n",
        "  print(\"Pass\")\n",
        "else:\n",
        "  print(\"you can do better\")"
      ],
      "metadata": {
        "colab": {
          "base_uri": "https://localhost:8080/"
        },
        "id": "acCYgH0VtVup",
        "outputId": "2ed27ab8-eb3b-43d2-aa89-febc23af46fb"
      },
      "execution_count": 43,
      "outputs": [
        {
          "output_type": "stream",
          "name": "stdout",
          "text": [
            "Pass\n"
          ]
        }
      ]
    },
    {
      "cell_type": "code",
      "source": [
        "'''\n",
        "Q1 - Take an integer as input from the user and print whether it is \"positive\" or \"negative\"\n",
        "\n",
        "Note: consider 0 as positive\n",
        "'''"
      ],
      "metadata": {
        "id": "S73bSwCDteVc"
      },
      "execution_count": null,
      "outputs": []
    },
    {
      "cell_type": "code",
      "source": [
        "n = int(input())"
      ],
      "metadata": {
        "colab": {
          "base_uri": "https://localhost:8080/"
        },
        "id": "BRok1kUawnZn",
        "outputId": "a6c37140-d8be-462e-86c0-bf62fc5f9c1c"
      },
      "execution_count": 44,
      "outputs": [
        {
          "name": "stdout",
          "output_type": "stream",
          "text": [
            "24\n"
          ]
        }
      ]
    },
    {
      "cell_type": "code",
      "source": [
        "n = -5\n",
        "\n",
        "if n >= 0:\n",
        "  print(\"Positive\")\n",
        "else:\n",
        "  print(\"Negative\")"
      ],
      "metadata": {
        "colab": {
          "base_uri": "https://localhost:8080/"
        },
        "id": "G1Dm5Bk8woqE",
        "outputId": "e3529e4a-44de-4768-cc47-26b4ced8bb64"
      },
      "execution_count": 49,
      "outputs": [
        {
          "output_type": "stream",
          "name": "stdout",
          "text": [
            "Negative\n"
          ]
        }
      ]
    },
    {
      "cell_type": "code",
      "source": [
        "'''\n",
        "Q2: Take an integer as input from the user and print whether it is \"positive\", \"negative\" or \"zero\"\n",
        "\n",
        "'''"
      ],
      "metadata": {
        "id": "D4WJMluWwxOT"
      },
      "execution_count": null,
      "outputs": []
    },
    {
      "cell_type": "code",
      "source": [
        "n = 5\n",
        "\n",
        "if n>0:\n",
        "  print(\"Positive\")\n",
        "elif n<0:\n",
        "  print(\"Negative\")\n",
        "else:\n",
        "  print(\"zero\")"
      ],
      "metadata": {
        "colab": {
          "base_uri": "https://localhost:8080/"
        },
        "id": "6ERvgYQ9x1A8",
        "outputId": "1b94244c-84cc-4550-a968-bb26bcc0ad69"
      },
      "execution_count": 54,
      "outputs": [
        {
          "output_type": "stream",
          "name": "stdout",
          "text": [
            "Positive\n"
          ]
        }
      ]
    },
    {
      "cell_type": "code",
      "source": [
        "'''\n",
        "Q3:\n",
        "Take an integer as input:n\n",
        "if ((n**5)%40) is greater than 15, then print \"Black\" else print \"Blue\"\n",
        "\n",
        "Note: If input is not a non-negative single digit number, print \"Invalid\"\n",
        "'''"
      ],
      "metadata": {
        "id": "gV2gAqSfx_ip"
      },
      "execution_count": null,
      "outputs": []
    },
    {
      "cell_type": "code",
      "source": [
        "if not(n >= 0 and n <= 9):\n",
        "  print(\"Invalid\")\n",
        "elif ((n**5)%40) > 15:\n",
        "  print(\"Black\")\n",
        "else:\n",
        "  print(\"Blue\")"
      ],
      "metadata": {
        "colab": {
          "base_uri": "https://localhost:8080/"
        },
        "id": "1tCIh_CLyepa",
        "outputId": "15db4e45-c711-41ea-a909-d093f805f130"
      },
      "execution_count": 55,
      "outputs": [
        {
          "output_type": "stream",
          "name": "stdout",
          "text": [
            "Blue\n"
          ]
        }
      ]
    },
    {
      "cell_type": "code",
      "source": [
        "#Grading system"
      ],
      "metadata": {
        "id": "2GX6dQxOz2g6"
      },
      "execution_count": 56,
      "outputs": []
    },
    {
      "cell_type": "code",
      "source": [
        "marks = 50"
      ],
      "metadata": {
        "id": "_rAqWHGe0YFi"
      },
      "execution_count": 57,
      "outputs": []
    },
    {
      "cell_type": "code",
      "source": [
        "if marks > 95:\n",
        "  print(\"A\")\n",
        "else:\n",
        "  print(\"B\")\n",
        "\n",
        "#incorrect"
      ],
      "metadata": {
        "id": "8X7CQLtn01HP"
      },
      "execution_count": null,
      "outputs": []
    },
    {
      "cell_type": "code",
      "source": [
        "marks = 85\n",
        "\n",
        "if marks > 95:\n",
        "  print(\"A\")\n",
        "elif (marks >= 70) and (marks <= 95):\n",
        "  print(\"B\")\n",
        "elif marks >= 30 and marks <= 69:\n",
        "  print(\"C\")\n",
        "elif marks < 30:\n",
        "  print(\"D\")\n"
      ],
      "metadata": {
        "colab": {
          "base_uri": "https://localhost:8080/"
        },
        "id": "K6jgXTut1D-4",
        "outputId": "06bb43b6-cb4c-4267-ce88-6c1a02f08f1a"
      },
      "execution_count": 60,
      "outputs": [
        {
          "output_type": "stream",
          "name": "stdout",
          "text": [
            "B\n"
          ]
        }
      ]
    },
    {
      "cell_type": "code",
      "source": [
        "a = 10\n",
        "\n",
        "if a > 5:\n",
        "  print(\"1\")\n",
        "\n",
        "\n",
        "if a > 7:\n",
        "  print(\"2\")"
      ],
      "metadata": {
        "colab": {
          "base_uri": "https://localhost:8080/"
        },
        "id": "i8czSo7c1cj3",
        "outputId": "bbd21f19-f36f-41e3-8a40-62f1d3244370"
      },
      "execution_count": 61,
      "outputs": [
        {
          "output_type": "stream",
          "name": "stdout",
          "text": [
            "1\n",
            "2\n"
          ]
        }
      ]
    },
    {
      "cell_type": "code",
      "source": [
        "a = 10\n",
        "\n",
        "if a > 5:\n",
        "  print(\"1\")\n",
        "elif a > 7:\n",
        "  print(\"2\")"
      ],
      "metadata": {
        "colab": {
          "base_uri": "https://localhost:8080/"
        },
        "id": "_I8djfM52Jzm",
        "outputId": "19de4050-e3c4-4ecf-b7dc-7455d7f75aa3"
      },
      "execution_count": 62,
      "outputs": [
        {
          "output_type": "stream",
          "name": "stdout",
          "text": [
            "1\n"
          ]
        }
      ]
    },
    {
      "cell_type": "code",
      "source": [
        "#Fizz Buzz\n",
        "\n",
        "'''\n",
        "Take an integer n as input.\n",
        "if n is a multiple of only 3 --> print \"Fizz\"\n",
        "else if n is a multiple of only 5 --> print \"Buzz\"\n",
        "else if n is a multiple of both 3 and 5 --> print \"FizzBuzz\"\n",
        "'''"
      ],
      "metadata": {
        "id": "aZ1wPaFL2Xy0"
      },
      "execution_count": null,
      "outputs": []
    },
    {
      "cell_type": "code",
      "source": [
        "N = int(input())\n",
        "\n",
        "if N % 3 ==0 :\n",
        "  print(\"Fizz\")\n",
        "elif N% 5 ==0 :\n",
        "  print(\"Buzz\")\n",
        "elif N%3 == 0 and N%5==0:\n",
        "  print(\"FizzBuzz\")"
      ],
      "metadata": {
        "colab": {
          "base_uri": "https://localhost:8080/"
        },
        "id": "ZgVn-X584Iyv",
        "outputId": "ff2bfad5-9a46-4cfa-a456-1cbbba681550"
      },
      "execution_count": 63,
      "outputs": [
        {
          "output_type": "stream",
          "name": "stdout",
          "text": [
            "3\n",
            "Fizz\n"
          ]
        }
      ]
    },
    {
      "cell_type": "code",
      "source": [
        "N = int(input())\n",
        "\n",
        "if N % 3 ==0 :\n",
        "  print(\"Fizz\")\n",
        "elif N% 5 ==0 :\n",
        "  print(\"Buzz\")\n",
        "elif N%3 == 0 and N%5==0:\n",
        "  print(\"FizzBuzz\")"
      ],
      "metadata": {
        "colab": {
          "base_uri": "https://localhost:8080/"
        },
        "id": "51D-_DMN4W8C",
        "outputId": "e07eb6cb-e6ee-487d-93ab-ea1708a23f14"
      },
      "execution_count": 64,
      "outputs": [
        {
          "output_type": "stream",
          "name": "stdout",
          "text": [
            "10\n",
            "Buzz\n"
          ]
        }
      ]
    },
    {
      "cell_type": "code",
      "source": [
        "N = int(input())\n",
        "\n",
        "if N % 3 ==0 :\n",
        "  print(\"Fizz\")\n",
        "elif N% 5 ==0 :\n",
        "  print(\"Buzz\")\n",
        "elif N%3 == 0 and N%5==0:\n",
        "  print(\"FizzBuzz\")\n",
        "\n",
        "#wrong"
      ],
      "metadata": {
        "colab": {
          "base_uri": "https://localhost:8080/"
        },
        "id": "QYKXOp4c4blf",
        "outputId": "c07d3567-ce74-4a66-f347-363d44faca5e"
      },
      "execution_count": 65,
      "outputs": [
        {
          "output_type": "stream",
          "name": "stdout",
          "text": [
            "30\n",
            "Fizz\n"
          ]
        }
      ]
    },
    {
      "cell_type": "code",
      "source": [
        "N = int(input())\n",
        "\n",
        "if  N%3 == 0 and N%5==0:\n",
        "   print(\"FizzBuzz\")\n",
        "elif N% 3 ==0 :\n",
        "  print(\"Fizz\")\n",
        "elif N%5==0:\n",
        "  print(\"Buzz\")\n"
      ],
      "metadata": {
        "colab": {
          "base_uri": "https://localhost:8080/"
        },
        "id": "_hjsDNCQ4fbT",
        "outputId": "0a744dc5-5cb9-42d2-a16b-a9d70ddafdf6"
      },
      "execution_count": 67,
      "outputs": [
        {
          "output_type": "stream",
          "name": "stdout",
          "text": [
            "6\n",
            "Fizz\n"
          ]
        }
      ]
    },
    {
      "cell_type": "code",
      "source": [
        "N = int(input())\n",
        "\n",
        "if  N%3 == 0 and N%5==0:\n",
        "   print(\"FizzBuzz\")\n",
        "elif N% 3 ==0 :\n",
        "  print(\"Fizz\")\n",
        "elif N%5==0:\n",
        "  print(\"Buzz\")\n"
      ],
      "metadata": {
        "colab": {
          "base_uri": "https://localhost:8080/"
        },
        "id": "KY9t2_UI5H4u",
        "outputId": "36334528-9bbb-4a8c-fc7f-62b4b6adf520"
      },
      "execution_count": 68,
      "outputs": [
        {
          "output_type": "stream",
          "name": "stdout",
          "text": [
            "10\n",
            "Buzz\n"
          ]
        }
      ]
    },
    {
      "cell_type": "code",
      "source": [
        "N = int(input())\n",
        "\n",
        "if  N%3 == 0 and N%5==0:\n",
        "   print(\"FizzBuzz\")\n",
        "elif N% 3 ==0 :\n",
        "  print(\"Fizz\")\n",
        "else:\n",
        "  print(\"Buzz\")\n"
      ],
      "metadata": {
        "colab": {
          "base_uri": "https://localhost:8080/"
        },
        "id": "iJy-w1Ov5REw",
        "outputId": "6e70fbd1-eeec-4c14-9ffc-1ebedbeac39b"
      },
      "execution_count": 69,
      "outputs": [
        {
          "output_type": "stream",
          "name": "stdout",
          "text": [
            "19\n",
            "Buzz\n"
          ]
        }
      ]
    },
    {
      "cell_type": "markdown",
      "source": [
        "Q5:\n",
        "Take three inputs from a user which are marks in science, english and maths.\n",
        "Assign the stream according to the following criteria (Bad process : - ):\n",
        "\n",
        "1. If marks in science > 90 or marks in each of the 3 subjects are greater than or equal to 75 - print \"A\"\n",
        "\n",
        "2. if marks in each of the 3 subjects are greater than or equal to 60 and less than 75 -- print \"B\"\n",
        "\n",
        "3. if marks in each of the 3 subjects are less than 60 -- print \"C\"\n",
        "\n",
        "\n",
        "\n",
        "Learnings:\n",
        "1. Understanding the question is 50% of the problem solved.\n",
        "\n",
        "2. Patiently reading the question"
      ],
      "metadata": {
        "id": "WqlRSAr959bG"
      }
    },
    {
      "cell_type": "code",
      "source": [
        "s = 62\n",
        "e = 50\n",
        "m = 50\n",
        "\n",
        "if s > 90 or (s >= 75 and m >= 75 and e >= 75):\n",
        "  print(\"A\")\n",
        "elif (s >= 60 and s < 75 ) and (m >= 60 and m < 75 ) and (e >= 60 and e < 75 ):\n",
        "  print(\"B\")\n",
        "elif s < 60 and m< 60 and e<60:\n",
        "  print(\"C\")\n",
        "else:\n",
        "  print(\"None of these\")"
      ],
      "metadata": {
        "colab": {
          "base_uri": "https://localhost:8080/"
        },
        "id": "u80Nex7z5sL1",
        "outputId": "5c37b1c9-f72f-41c0-c047-56dab96b9bf6"
      },
      "execution_count": 76,
      "outputs": [
        {
          "output_type": "stream",
          "name": "stdout",
          "text": [
            "None of these\n"
          ]
        }
      ]
    },
    {
      "cell_type": "code",
      "source": [
        "# \"Yes\" --> Because the conditions are non-overlapping"
      ],
      "metadata": {
        "id": "0iyB1gji7238"
      },
      "execution_count": null,
      "outputs": []
    }
  ]
}